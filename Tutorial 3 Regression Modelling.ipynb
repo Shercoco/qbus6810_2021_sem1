{
 "cells": [
  {
   "cell_type": "markdown",
   "metadata": {},
   "source": [
    "<img align=\"center\" src=\"http://sydney.edu.au/images/content/about/logo-mono.jpg\">\n",
    "<h1 align=\"center\" style=\"margin-top:10px\">Statistical Learning and Data Mining (QBUS6810)</h1>\n",
    "<h2 align=\"center\" style=\"margin-top:10px\">Tutorial 3: Regression modelling</h2>\n",
    "<br>\n",
    "\n",
    "\n",
    "In this tutorial we will put the linear regression modelling tools from Lecture 2 into practice.\n",
    "\n",
    "<a href=\"#Data\">Data</a> <br>\n",
    "<a href=\"#Training-and-Test-Sets\">Training and Test Sets</a> <br>\n",
    "<a href=\"#Exploratory-Data-Analysis\">Exploratory Data Analysis</a> <br>\n",
    "<a href=\"#Data-Preparation\">Data Preparation</a> <br>\n",
    "<a href=\"#Linear-Regression\">Linear Regression</a> <br>\n",
    "<a href=\"#Model-Evaluation\">Model Evaluation</a> <br>\n",
    "\n",
    "This notebook relies on the following imports and settings throughout. We will load new packages and functions in context to make clear what we are using them for. "
   ]
  },
  {
   "cell_type": "markdown",
   "metadata": {},
   "source": [
    "<hr style=\"height:2px;border-width:0;color:black;background-color:black\">"
   ]
  },
  {
   "cell_type": "markdown",
   "metadata": {},
   "source": [
    "So this week we are going to start builing our first model, scary! Now we will be using `statsmodel` this week, but later on in the course we will be using something different. So pay attention today, but not too much attention.\n",
    "\n",
    "Once again, though, the main focus on this tutorial will be on understanding how to read the code. Then once we understand how to read it, programming it should be easy. \n",
    "\n",
    "Its kind of like learning a new subject - whenever you start learning a new subject there is going to be a certain language/words they use that you don't quite understand right now. But as you start understand the words they use, and how they use it, the subject becomes very easy. So I'm trying to teach this now."
   ]
  },
  {
   "cell_type": "markdown",
   "metadata": {},
   "source": [
    "<hr style=\"height:2px;border-width:0;color:black;background-color:red\">"
   ]
  },
  {
   "cell_type": "code",
   "execution_count": 4,
   "metadata": {},
   "outputs": [],
   "source": [
    "# Packages\n",
    "import numpy as np\n",
    "import matplotlib.pyplot as plt\n",
    "\n",
    "import pandas as pd\n",
    "import seaborn as sns\n",
    "import warnings\n",
    "warnings.filterwarnings('ignore') # this is to clear the warnings from this page, typically you would leave them on"
   ]
  },
  {
   "cell_type": "code",
   "execution_count": 40,
   "metadata": {},
   "outputs": [],
   "source": [
    "# Plot settings\n",
    "sns.set_context('notebook') # optimise figures for notebook display\n",
    "sns.set_style('ticks') # set default plot style\n",
    "colours = ['#1F77B4', '#FF7F0E', '#2CA02C', '#DB2728', '#9467BD', '#8C564B', '#E377C2','#7F7F7F', '#BCBD22', '#17BECF']\n",
    "crayon = ['#4E79A7','#F28E2C','#E15759','#76B7B2','#59A14F', '#EDC949','#AF7AA1','#FF9DA7','#9C755F','#BAB0AB']\n",
    "sns.set_palette(colours) # set custom color scheme\n",
    "%matplotlib inline\n",
    "plt.rcParams['figure.figsize'] = (9, 6)"
   ]
  },
  {
   "cell_type": "markdown",
   "metadata": {},
   "source": [
    "## Data\n",
    "\n",
    "The <TT>Employees.csv</TT> file records data about the employees of a company. The dataset is from [Business Analytics for Managers](http://www.springer.com/us/book/9781461404057) by Wolfgang Jank.  In this problem, the managers are concerned with the issue of equal pay in the company. If we compare male and female employees with the same level of experience, are they paid the same on average?\n",
    "\n",
    "In recent years, workforce, [HR](https://www-01.ibm.com/software/analytics/solutions/operational-analytics/hr-analytics/), and [people analytics](http://knowledge.wharton.upenn.edu/article/open-sourcing-googles-hr-secrets/) have emerged as terms for the practice of data-driven human capital management. "
   ]
  },
  {
   "cell_type": "code",
   "execution_count": 5,
   "metadata": {},
   "outputs": [
    {
     "data": {
      "text/html": [
       "<div>\n",
       "<style scoped>\n",
       "    .dataframe tbody tr th:only-of-type {\n",
       "        vertical-align: middle;\n",
       "    }\n",
       "\n",
       "    .dataframe tbody tr th {\n",
       "        vertical-align: top;\n",
       "    }\n",
       "\n",
       "    .dataframe thead th {\n",
       "        text-align: right;\n",
       "    }\n",
       "</style>\n",
       "<table border=\"1\" class=\"dataframe\">\n",
       "  <thead>\n",
       "    <tr style=\"text-align: right;\">\n",
       "      <th></th>\n",
       "      <th>Gender</th>\n",
       "      <th>Experience</th>\n",
       "      <th>Salary</th>\n",
       "    </tr>\n",
       "  </thead>\n",
       "  <tbody>\n",
       "    <tr>\n",
       "      <th>0</th>\n",
       "      <td>Female</td>\n",
       "      <td>15</td>\n",
       "      <td>78200</td>\n",
       "    </tr>\n",
       "    <tr>\n",
       "      <th>1</th>\n",
       "      <td>Female</td>\n",
       "      <td>12</td>\n",
       "      <td>66400</td>\n",
       "    </tr>\n",
       "    <tr>\n",
       "      <th>2</th>\n",
       "      <td>Female</td>\n",
       "      <td>15</td>\n",
       "      <td>61200</td>\n",
       "    </tr>\n",
       "    <tr>\n",
       "      <th>3</th>\n",
       "      <td>Female</td>\n",
       "      <td>3</td>\n",
       "      <td>61000</td>\n",
       "    </tr>\n",
       "    <tr>\n",
       "      <th>4</th>\n",
       "      <td>Female</td>\n",
       "      <td>4</td>\n",
       "      <td>60000</td>\n",
       "    </tr>\n",
       "  </tbody>\n",
       "</table>\n",
       "</div>"
      ],
      "text/plain": [
       "   Gender  Experience  Salary\n",
       "0  Female          15   78200\n",
       "1  Female          12   66400\n",
       "2  Female          15   61200\n",
       "3  Female           3   61000\n",
       "4  Female           4   60000"
      ]
     },
     "execution_count": 5,
     "metadata": {},
     "output_type": "execute_result"
    }
   ],
   "source": [
    "data = pd.read_csv('Employees.csv')\n",
    "data.head()"
   ]
  },
  {
   "cell_type": "code",
   "execution_count": 3,
   "metadata": {},
   "outputs": [
    {
     "data": {
      "text/html": [
       "<div>\n",
       "<style scoped>\n",
       "    .dataframe tbody tr th:only-of-type {\n",
       "        vertical-align: middle;\n",
       "    }\n",
       "\n",
       "    .dataframe tbody tr th {\n",
       "        vertical-align: top;\n",
       "    }\n",
       "\n",
       "    .dataframe thead th {\n",
       "        text-align: right;\n",
       "    }\n",
       "</style>\n",
       "<table border=\"1\" class=\"dataframe\">\n",
       "  <thead>\n",
       "    <tr style=\"text-align: right;\">\n",
       "      <th></th>\n",
       "      <th>Gender</th>\n",
       "      <th>Experience</th>\n",
       "      <th>Salary</th>\n",
       "    </tr>\n",
       "  </thead>\n",
       "  <tbody>\n",
       "    <tr>\n",
       "      <th>203</th>\n",
       "      <td>Male</td>\n",
       "      <td>39</td>\n",
       "      <td>148000</td>\n",
       "    </tr>\n",
       "    <tr>\n",
       "      <th>204</th>\n",
       "      <td>Male</td>\n",
       "      <td>34</td>\n",
       "      <td>190000</td>\n",
       "    </tr>\n",
       "    <tr>\n",
       "      <th>205</th>\n",
       "      <td>Male</td>\n",
       "      <td>36</td>\n",
       "      <td>194000</td>\n",
       "    </tr>\n",
       "    <tr>\n",
       "      <th>206</th>\n",
       "      <td>Male</td>\n",
       "      <td>32</td>\n",
       "      <td>176000</td>\n",
       "    </tr>\n",
       "    <tr>\n",
       "      <th>207</th>\n",
       "      <td>Male</td>\n",
       "      <td>35</td>\n",
       "      <td>188000</td>\n",
       "    </tr>\n",
       "  </tbody>\n",
       "</table>\n",
       "</div>"
      ],
      "text/plain": [
       "    Gender  Experience  Salary\n",
       "203   Male          39  148000\n",
       "204   Male          34  190000\n",
       "205   Male          36  194000\n",
       "206   Male          32  176000\n",
       "207   Male          35  188000"
      ]
     },
     "execution_count": 3,
     "metadata": {},
     "output_type": "execute_result"
    }
   ],
   "source": [
    "data.tail()"
   ]
  },
  {
   "cell_type": "markdown",
   "metadata": {},
   "source": [
    "## Training and Test Sets\n",
    "\n",
    "We use the Scikit-Learn train_test_split method to split the data into training and test sets.\n",
    "\n",
    "Below, we specify that the training set will contain 70% of the data. The random state parameter is an arbitrary number. By setting a specific value for the random state we ensure that we get the same training and test sets if we run the analysis again, even though the split is random."
   ]
  },
  {
   "cell_type": "markdown",
   "metadata": {},
   "source": [
    "<hr style=\"height:2px;border-width:0;color:black;background-color:black\">\n",
    "Our first big piece of code is this"
   ]
  },
  {
   "cell_type": "code",
   "execution_count": 47,
   "metadata": {},
   "outputs": [],
   "source": [
    "from sklearn.model_selection import train_test_split\n",
    "\n",
    "index_train, index_test = train_test_split(data.index, train_size=0.7, random_state=10)"
   ]
  },
  {
   "cell_type": "markdown",
   "metadata": {},
   "source": [
    "So the first thing we want to look at is what ever is on the RIGHT side of the `=` sign, because this is what is going to be computed by the computer.\n",
    "\n",
    "`train_test_split(data.index, train_size=0.7, random_state=10)`\n",
    "\n",
    "So, first recognise that this is a function, not a dataframe. We know this because of the use of `(` not `[`. The square brackets are used when you want to access locations of a dataset, but `(` are used when you are giving inputs to a function.\n",
    "\n",
    "So regardless, we have a function named `train_test_split` and we are giving it the inputs `data.index, train_size=0.7, random_state=10`. Once again, we will go one by one. \n",
    "\n",
    "### `train_test_split`\n",
    "One of the biggest indications of what the function will do is by the name of the function. So reading the name, the only way to interpret it is that it will split something up into the train and test set. Simple! \n",
    "\n",
    "To double check our guess,"
   ]
  },
  {
   "cell_type": "code",
   "execution_count": 56,
   "metadata": {},
   "outputs": [],
   "source": [
    "train_test_split?"
   ]
  },
  {
   "cell_type": "markdown",
   "metadata": {},
   "source": [
    "### `data.index`\n",
    "The `list` is there for technical reasons, but no surprise, `data.index` is simply the index names of the data."
   ]
  },
  {
   "cell_type": "code",
   "execution_count": 54,
   "metadata": {},
   "outputs": [
    {
     "data": {
      "text/plain": [
       "[0,\n",
       " 1,\n",
       " 2,\n",
       " 3,\n",
       " 4,\n",
       " 5,\n",
       " 6,\n",
       " 7,\n",
       " 8,\n",
       " 9,\n",
       " 10,\n",
       " 11,\n",
       " 12,\n",
       " 13,\n",
       " 14,\n",
       " 15,\n",
       " 16,\n",
       " 17,\n",
       " 18,\n",
       " 19,\n",
       " 20,\n",
       " 21,\n",
       " 22,\n",
       " 23,\n",
       " 24,\n",
       " 25,\n",
       " 26,\n",
       " 27,\n",
       " 28,\n",
       " 29,\n",
       " 30,\n",
       " 31,\n",
       " 32,\n",
       " 33,\n",
       " 34,\n",
       " 35,\n",
       " 36,\n",
       " 37,\n",
       " 38,\n",
       " 39,\n",
       " 40,\n",
       " 41,\n",
       " 42,\n",
       " 43,\n",
       " 44,\n",
       " 45,\n",
       " 46,\n",
       " 47,\n",
       " 48,\n",
       " 49,\n",
       " 50,\n",
       " 51,\n",
       " 52,\n",
       " 53,\n",
       " 54,\n",
       " 55,\n",
       " 56,\n",
       " 57,\n",
       " 58,\n",
       " 59,\n",
       " 60,\n",
       " 61,\n",
       " 62,\n",
       " 63,\n",
       " 64,\n",
       " 65,\n",
       " 66,\n",
       " 67,\n",
       " 68,\n",
       " 69,\n",
       " 70,\n",
       " 71,\n",
       " 72,\n",
       " 73,\n",
       " 74,\n",
       " 75,\n",
       " 76,\n",
       " 77,\n",
       " 78,\n",
       " 79,\n",
       " 80,\n",
       " 81,\n",
       " 82,\n",
       " 83,\n",
       " 84,\n",
       " 85,\n",
       " 86,\n",
       " 87,\n",
       " 88,\n",
       " 89,\n",
       " 90,\n",
       " 91,\n",
       " 92,\n",
       " 93,\n",
       " 94,\n",
       " 95,\n",
       " 96,\n",
       " 97,\n",
       " 98,\n",
       " 99,\n",
       " 100,\n",
       " 101,\n",
       " 102,\n",
       " 103,\n",
       " 104,\n",
       " 105,\n",
       " 106,\n",
       " 107,\n",
       " 108,\n",
       " 109,\n",
       " 110,\n",
       " 111,\n",
       " 112,\n",
       " 113,\n",
       " 114,\n",
       " 115,\n",
       " 116,\n",
       " 117,\n",
       " 118,\n",
       " 119,\n",
       " 120,\n",
       " 121,\n",
       " 122,\n",
       " 123,\n",
       " 124,\n",
       " 125,\n",
       " 126,\n",
       " 127,\n",
       " 128,\n",
       " 129,\n",
       " 130,\n",
       " 131,\n",
       " 132,\n",
       " 133,\n",
       " 134,\n",
       " 135,\n",
       " 136,\n",
       " 137,\n",
       " 138,\n",
       " 139,\n",
       " 140,\n",
       " 141,\n",
       " 142,\n",
       " 143,\n",
       " 144,\n",
       " 145,\n",
       " 146,\n",
       " 147,\n",
       " 148,\n",
       " 149,\n",
       " 150,\n",
       " 151,\n",
       " 152,\n",
       " 153,\n",
       " 154,\n",
       " 155,\n",
       " 156,\n",
       " 157,\n",
       " 158,\n",
       " 159,\n",
       " 160,\n",
       " 161,\n",
       " 162,\n",
       " 163,\n",
       " 164,\n",
       " 165,\n",
       " 166,\n",
       " 167,\n",
       " 168,\n",
       " 169,\n",
       " 170,\n",
       " 171,\n",
       " 172,\n",
       " 173,\n",
       " 174,\n",
       " 175,\n",
       " 176,\n",
       " 177,\n",
       " 178,\n",
       " 179,\n",
       " 180,\n",
       " 181,\n",
       " 182,\n",
       " 183,\n",
       " 184,\n",
       " 185,\n",
       " 186,\n",
       " 187,\n",
       " 188,\n",
       " 189,\n",
       " 190,\n",
       " 191,\n",
       " 192,\n",
       " 193,\n",
       " 194,\n",
       " 195,\n",
       " 196,\n",
       " 197,\n",
       " 198,\n",
       " 199,\n",
       " 200,\n",
       " 201,\n",
       " 202,\n",
       " 203,\n",
       " 204,\n",
       " 205,\n",
       " 206,\n",
       " 207]"
      ]
     },
     "execution_count": 54,
     "metadata": {},
     "output_type": "execute_result"
    }
   ],
   "source": [
    "list(data.index)"
   ]
  },
  {
   "cell_type": "markdown",
   "metadata": {},
   "source": [
    "### `train_size=0.7`\n",
    "Simple, the training size is just 70% of the dataset\n",
    "\n",
    "\n",
    "### `random_state=10`\n",
    "This requires a bit more computing knowledge to understand this. The idea is that it is almost impossible for a computer to give random numbers. So instead, we settle on algorithms who's outputs look random, otherwise known as Pseudo-Random Numbers.\n",
    "\n",
    "One example that came under quite a lot of controversy is the Linear Congruentent Generator (if you heard about Dream cheating in Minecraft, this is the random number generator that Minecraft uses). \n",
    "\n",
    "$$f(n)=3n+1 \\mod 13, \\quad\\textrm{where mod 13 is the remainder when divided by 13}$$\n",
    "\n",
    "So let us see what the output of this function is for different values of $n$."
   ]
  },
  {
   "cell_type": "code",
   "execution_count": 76,
   "metadata": {},
   "outputs": [],
   "source": [
    "def f(n):  # Defining the LCG\n",
    "    return (3*n + 1)%13"
   ]
  },
  {
   "cell_type": "code",
   "execution_count": 77,
   "metadata": {},
   "outputs": [
    {
     "name": "stdout",
     "output_type": "stream",
     "text": [
      "n=0: f(n)=1\n",
      "n=1: f(n)=4\n",
      "n=2: f(n)=7\n",
      "n=3: f(n)=10\n",
      "n=4: f(n)=0\n",
      "n=5: f(n)=3\n",
      "n=6: f(n)=6\n",
      "n=7: f(n)=9\n",
      "n=8: f(n)=12\n",
      "n=9: f(n)=2\n"
     ]
    }
   ],
   "source": [
    "for n in range(0, 10):\n",
    "    print(f'n={n}: f(n)={f(n)}')"
   ]
  },
  {
   "cell_type": "markdown",
   "metadata": {},
   "source": [
    "So we can see that the output of the function is quite random. There is no clear pattern\n",
    "$$1, 4, 7, 10, 0, 3, ...$$\n",
    "Congratz, we just made a simple random number generator. \n",
    "\n",
    "But the key is that the output of the function is determined by the inital state of the function, aka the first number you start off with. So before we started of with the number 0, but now lets start of with 100"
   ]
  },
  {
   "cell_type": "code",
   "execution_count": 78,
   "metadata": {},
   "outputs": [
    {
     "name": "stdout",
     "output_type": "stream",
     "text": [
      "n=100: f(n)=2\n",
      "n=101: f(n)=5\n",
      "n=102: f(n)=8\n",
      "n=103: f(n)=11\n",
      "n=104: f(n)=1\n",
      "n=105: f(n)=4\n",
      "n=106: f(n)=7\n",
      "n=107: f(n)=10\n",
      "n=108: f(n)=0\n",
      "n=109: f(n)=3\n"
     ]
    }
   ],
   "source": [
    "for n in range(100, 110):\n",
    "    print(f'n={n}: f(n)={f(n)}')"
   ]
  },
  {
   "cell_type": "markdown",
   "metadata": {},
   "source": [
    "So here we get a completely different set of random numbers, \n",
    "$$2, 5, 8, 11, ...$$\n",
    "But it was only because we started of at a different number. Before we started at 0, and here we started at 100. So if you start of at a different number, you will get a different set of random numbers.\n",
    "\n",
    "Another crucial idea, though, is that this set of random numbers is determined by the initial state of the random number generator. Meaning that if we always start the generation at $n=100$ then we will ALWAYS get the same set of random numbers. But if we change the state, only then do we get a different set of random numbers.\n",
    "\n",
    "Specifically, the generation of the random numbers is COMPLETELY determined by the initial starting position of the generation.\n",
    "\n",
    "As such, when we write `random_state=10` we are simply starting the random number generation at 10. This will ensure that the random numbers that we get will always be the same.\n",
    "\n",
    "By the way, this is how people do stuff like this:"
   ]
  },
  {
   "cell_type": "code",
   "execution_count": 50,
   "metadata": {},
   "outputs": [
    {
     "data": {
      "image/jpeg": "[encoded data removed]",
      "text/html": [
       "\n",
       "        <iframe\n",
       "            width=\"720\"\n",
       "            height=\"480\"\n",
       "            src=\"https://www.youtube.com/embed/h9i3oCarI7g\"\n",
       "            frameborder=\"0\"\n",
       "            allowfullscreen\n",
       "        ></iframe>\n",
       "        "
      ],
      "text/plain": [
       "<IPython.lib.display.YouTubeVideo at 0x7fbf660c4d10>"
      ]
     },
     "execution_count": 50,
     "metadata": {},
     "output_type": "execute_result"
    }
   ],
   "source": [
    "from IPython.display import YouTubeVideo\n",
    "\n",
    "YouTubeVideo('h9i3oCarI7g', width=720, height=480)"
   ]
  },
  {
   "cell_type": "code",
   "execution_count": null,
   "metadata": {},
   "outputs": [],
   "source": []
  },
  {
   "cell_type": "markdown",
   "metadata": {},
   "source": [
    "<hr style=\"height:2px;border-width:0;color:black;background-color:red\">"
   ]
  },
  {
   "cell_type": "code",
   "execution_count": 17,
   "metadata": {
    "scrolled": true
   },
   "outputs": [
    {
     "data": {
      "image/png": "[encoded data removed]",
      "text/plain": [
       "<Figure size 1080x360 with 1 Axes>"
      ]
     },
     "metadata": {
      "needs_background": "light"
     },
     "output_type": "display_data"
    }
   ],
   "source": [
    "from sklearn.model_selection import train_test_split\n",
    "\n",
    "index_train, index_test = train_test_split(data.index, train_size=0.7, random_state=10)\n",
    "\n",
    "fig = plt.figure(figsize = (15, 5))\n",
    "plt.bar(index_train, np.ones(len(index_train)), label='Train Index', width=1)\n",
    "plt.bar(index_test, np.ones(len(index_test)), label='Test Index', width=1)\n",
    "\n",
    "plt.legend();"
   ]
  },
  {
   "cell_type": "code",
   "execution_count": 18,
   "metadata": {},
   "outputs": [
    {
     "data": {
      "image/png": "[encoded data removed]",
      "text/plain": [
       "<Figure size 1080x360 with 1 Axes>"
      ]
     },
     "metadata": {
      "needs_background": "light"
     },
     "output_type": "display_data"
    }
   ],
   "source": [
    "from sklearn.model_selection import train_test_split\n",
    "\n",
    "index_train, index_test = train_test_split(data.index, train_size=0.7, random_state=5)\n",
    "\n",
    "fig = plt.figure(figsize = (15, 5))\n",
    "plt.bar(index_train, np.ones(len(index_train)), label='Train Index', width=1)\n",
    "plt.bar(index_test, np.ones(len(index_test)), label='Test Index', width=1)\n",
    "\n",
    "plt.legend();"
   ]
  },
  {
   "cell_type": "code",
   "execution_count": null,
   "metadata": {},
   "outputs": [],
   "source": []
  },
  {
   "cell_type": "code",
   "execution_count": 6,
   "metadata": {},
   "outputs": [
    {
     "data": {
      "text/html": [
       "<div>\n",
       "<style scoped>\n",
       "    .dataframe tbody tr th:only-of-type {\n",
       "        vertical-align: middle;\n",
       "    }\n",
       "\n",
       "    .dataframe tbody tr th {\n",
       "        vertical-align: top;\n",
       "    }\n",
       "\n",
       "    .dataframe thead th {\n",
       "        text-align: right;\n",
       "    }\n",
       "</style>\n",
       "<table border=\"1\" class=\"dataframe\">\n",
       "  <thead>\n",
       "    <tr style=\"text-align: right;\">\n",
       "      <th></th>\n",
       "      <th>Gender</th>\n",
       "      <th>Experience</th>\n",
       "      <th>Salary</th>\n",
       "    </tr>\n",
       "  </thead>\n",
       "  <tbody>\n",
       "    <tr>\n",
       "      <th>24</th>\n",
       "      <td>Female</td>\n",
       "      <td>11</td>\n",
       "      <td>70800</td>\n",
       "    </tr>\n",
       "    <tr>\n",
       "      <th>43</th>\n",
       "      <td>Female</td>\n",
       "      <td>9</td>\n",
       "      <td>59600</td>\n",
       "    </tr>\n",
       "    <tr>\n",
       "      <th>144</th>\n",
       "      <td>Male</td>\n",
       "      <td>7</td>\n",
       "      <td>53400</td>\n",
       "    </tr>\n",
       "    <tr>\n",
       "      <th>21</th>\n",
       "      <td>Female</td>\n",
       "      <td>18</td>\n",
       "      <td>68000</td>\n",
       "    </tr>\n",
       "    <tr>\n",
       "      <th>129</th>\n",
       "      <td>Female</td>\n",
       "      <td>15</td>\n",
       "      <td>102400</td>\n",
       "    </tr>\n",
       "  </tbody>\n",
       "</table>\n",
       "</div>"
      ],
      "text/plain": [
       "     Gender  Experience  Salary\n",
       "24   Female          11   70800\n",
       "43   Female           9   59600\n",
       "144    Male           7   53400\n",
       "21   Female          18   68000\n",
       "129  Female          15  102400"
      ]
     },
     "execution_count": 6,
     "metadata": {},
     "output_type": "execute_result"
    }
   ],
   "source": [
    "from sklearn.model_selection import train_test_split\n",
    "\n",
    "# Randomly split indexes\n",
    "index_train, index_test = train_test_split(np.array(data.index), train_size=0.7, random_state=10)\n",
    "\n",
    "# Write training and test sets \n",
    "train = data.loc[index_train,:].copy()\n",
    "test =  data.loc[index_test,:].copy()  # the copy here is for technical reasons\n",
    "\n",
    "train.head()"
   ]
  },
  {
   "cell_type": "markdown",
   "metadata": {},
   "source": [
    "## Exploratory Data Analysis\n",
    "\n",
    "Exploratory data analysis (EDA) is the process of discovering features and patterns in the data that should inform the modelling process and, in some cases, prevent errors. Here we conduct a short EDA of the dataset. Remember that we should use only the training set for this purpose. \n",
    "\n",
    "The next several cells display a range of summary measures and exploratory plots for the data. We learn for example that: \n",
    "\n",
    "* On average, male employees have higher salaries than female employees. The pay gap seems to be larger at the upper quantiles of the salary distribution for each group.  The variance in salaries is substantially higher for males.\n",
    "\n",
    " \n",
    "* The distribution of salary is clearly right skewed for both males and females.\n",
    "\n",
    "\n",
    "* Not surprisingly, experience is strongly positively related with salary. When considering all the employees, three of them appear to be outliers as they have much higher salaries than the rest. These are probably senior executives in the company (further investigation would reveal that they are all males). \n",
    "\n",
    "\n",
    "* There seems to be an interaction between gender and experience. The pay gap increases with the level of experience. Allowing for this interaction, the employees with highest salaries do not seem to be outliers anymore."
   ]
  },
  {
   "cell_type": "code",
   "execution_count": 5,
   "metadata": {},
   "outputs": [
    {
     "data": {
      "text/html": [
       "<div>\n",
       "<style scoped>\n",
       "    .dataframe tbody tr th:only-of-type {\n",
       "        vertical-align: middle;\n",
       "    }\n",
       "\n",
       "    .dataframe tbody tr th {\n",
       "        vertical-align: top;\n",
       "    }\n",
       "\n",
       "    .dataframe thead th {\n",
       "        text-align: right;\n",
       "    }\n",
       "</style>\n",
       "<table border=\"1\" class=\"dataframe\">\n",
       "  <thead>\n",
       "    <tr style=\"text-align: right;\">\n",
       "      <th></th>\n",
       "      <th>count</th>\n",
       "      <th>mean</th>\n",
       "      <th>std</th>\n",
       "      <th>min</th>\n",
       "      <th>25%</th>\n",
       "      <th>50%</th>\n",
       "      <th>75%</th>\n",
       "      <th>max</th>\n",
       "    </tr>\n",
       "    <tr>\n",
       "      <th>Gender</th>\n",
       "      <th></th>\n",
       "      <th></th>\n",
       "      <th></th>\n",
       "      <th></th>\n",
       "      <th></th>\n",
       "      <th></th>\n",
       "      <th></th>\n",
       "      <th></th>\n",
       "    </tr>\n",
       "  </thead>\n",
       "  <tbody>\n",
       "    <tr>\n",
       "      <th>Female</th>\n",
       "      <td>97.0</td>\n",
       "      <td>75034.85</td>\n",
       "      <td>13573.05</td>\n",
       "      <td>54000.0</td>\n",
       "      <td>65480.0</td>\n",
       "      <td>72800.0</td>\n",
       "      <td>82800.0</td>\n",
       "      <td>123600.0</td>\n",
       "    </tr>\n",
       "    <tr>\n",
       "      <th>Male</th>\n",
       "      <td>48.0</td>\n",
       "      <td>90211.25</td>\n",
       "      <td>30172.77</td>\n",
       "      <td>53400.0</td>\n",
       "      <td>69130.0</td>\n",
       "      <td>85000.0</td>\n",
       "      <td>97250.0</td>\n",
       "      <td>194000.0</td>\n",
       "    </tr>\n",
       "  </tbody>\n",
       "</table>\n",
       "</div>"
      ],
      "text/plain": [
       "        count      mean       std      min      25%      50%      75%  \\\n",
       "Gender                                                                  \n",
       "Female   97.0  75034.85  13573.05  54000.0  65480.0  72800.0  82800.0   \n",
       "Male     48.0  90211.25  30172.77  53400.0  69130.0  85000.0  97250.0   \n",
       "\n",
       "             max  \n",
       "Gender            \n",
       "Female  123600.0  \n",
       "Male    194000.0  "
      ]
     },
     "execution_count": 5,
     "metadata": {},
     "output_type": "execute_result"
    }
   ],
   "source": [
    "train.groupby('Gender')['Salary'].describe().round(2)  # round the results to two decimal places"
   ]
  },
  {
   "cell_type": "code",
   "execution_count": 6,
   "metadata": {
    "scrolled": false
   },
   "outputs": [
    {
     "data": {
      "image/png": "[encoded data removed]",
      "text/plain": [
       "<Figure size 432x288 with 1 Axes>"
      ]
     },
     "metadata": {
      "needs_background": "light"
     },
     "output_type": "display_data"
    }
   ],
   "source": [
    "sns.boxplot(x='Gender', y='Salary', data=train, palette='Blues')\n",
    "plt.tight_layout()\n",
    "plt.show()"
   ]
  },
  {
   "cell_type": "code",
   "execution_count": 42,
   "metadata": {},
   "outputs": [
    {
     "data": {
      "image/png": "[encoded data removed]",
      "text/plain": [
       "<Figure size 648x432 with 1 Axes>"
      ]
     },
     "metadata": {
      "needs_background": "light"
     },
     "output_type": "display_data"
    }
   ],
   "source": [
    "sns.distplot(train.loc[train['Gender']=='Male', 'Salary'], hist=False, label='Male')\n",
    "sns.distplot(train.loc[train['Gender']=='Female', 'Salary'], hist=False, label='Female')\n",
    "sns.despine()\n",
    "plt.legend();\n",
    "plt.show()"
   ]
  },
  {
   "cell_type": "code",
   "execution_count": 45,
   "metadata": {},
   "outputs": [
    {
     "data": {
      "image/png": "[encoded data removed]",
      "text/plain": [
       "<Figure size 648x432 with 1 Axes>"
      ]
     },
     "metadata": {
      "needs_background": "light"
     },
     "output_type": "display_data"
    }
   ],
   "source": [
    "sns.regplot(train['Experience'], train['Salary'], scatter_kws={'s': 30}, ci=None)\n",
    "sns.despine()\n",
    "plt.show()"
   ]
  },
  {
   "cell_type": "code",
   "execution_count": 46,
   "metadata": {},
   "outputs": [
    {
     "data": {
      "image/png": "[encoded data removed]",
      "text/plain": [
       "<Figure size 594.75x432 with 1 Axes>"
      ]
     },
     "metadata": {
      "needs_background": "light"
     },
     "output_type": "display_data"
    }
   ],
   "source": [
    "sns.lmplot('Experience', 'Salary', data=train, hue='Gender', size=6, aspect=1.2, scatter_kws={'s': 30}, ci=None)\n",
    "plt.show()"
   ]
  },
  {
   "cell_type": "markdown",
   "metadata": {},
   "source": [
    "## Data Preparation\n",
    "\n",
    "In most cases, we need to perform additional processing to get the data ready for training machine learning models and computing predictions. It is good practice to write a function for this step.\n",
    "\n",
    "Below we create a dummy valiable in order to incorporate the gender predictor into the regression."
   ]
  },
  {
   "cell_type": "code",
   "execution_count": 10,
   "metadata": {},
   "outputs": [
    {
     "data": {
      "text/html": [
       "<div>\n",
       "<style scoped>\n",
       "    .dataframe tbody tr th:only-of-type {\n",
       "        vertical-align: middle;\n",
       "    }\n",
       "\n",
       "    .dataframe tbody tr th {\n",
       "        vertical-align: top;\n",
       "    }\n",
       "\n",
       "    .dataframe thead th {\n",
       "        text-align: right;\n",
       "    }\n",
       "</style>\n",
       "<table border=\"1\" class=\"dataframe\">\n",
       "  <thead>\n",
       "    <tr style=\"text-align: right;\">\n",
       "      <th></th>\n",
       "      <th>Gender</th>\n",
       "      <th>Experience</th>\n",
       "      <th>Salary</th>\n",
       "    </tr>\n",
       "  </thead>\n",
       "  <tbody>\n",
       "    <tr>\n",
       "      <th>24</th>\n",
       "      <td>Female</td>\n",
       "      <td>11</td>\n",
       "      <td>70800</td>\n",
       "    </tr>\n",
       "    <tr>\n",
       "      <th>43</th>\n",
       "      <td>Female</td>\n",
       "      <td>9</td>\n",
       "      <td>59600</td>\n",
       "    </tr>\n",
       "    <tr>\n",
       "      <th>144</th>\n",
       "      <td>Male</td>\n",
       "      <td>7</td>\n",
       "      <td>53400</td>\n",
       "    </tr>\n",
       "    <tr>\n",
       "      <th>21</th>\n",
       "      <td>Female</td>\n",
       "      <td>18</td>\n",
       "      <td>68000</td>\n",
       "    </tr>\n",
       "    <tr>\n",
       "      <th>129</th>\n",
       "      <td>Female</td>\n",
       "      <td>15</td>\n",
       "      <td>102400</td>\n",
       "    </tr>\n",
       "  </tbody>\n",
       "</table>\n",
       "</div>"
      ],
      "text/plain": [
       "     Gender  Experience  Salary\n",
       "24   Female          11   70800\n",
       "43   Female           9   59600\n",
       "144    Male           7   53400\n",
       "21   Female          18   68000\n",
       "129  Female          15  102400"
      ]
     },
     "execution_count": 10,
     "metadata": {},
     "output_type": "execute_result"
    }
   ],
   "source": [
    "train.head()"
   ]
  },
  {
   "cell_type": "code",
   "execution_count": 43,
   "metadata": {},
   "outputs": [
    {
     "data": {
      "text/html": [
       "<div>\n",
       "<style scoped>\n",
       "    .dataframe tbody tr th:only-of-type {\n",
       "        vertical-align: middle;\n",
       "    }\n",
       "\n",
       "    .dataframe tbody tr th {\n",
       "        vertical-align: top;\n",
       "    }\n",
       "\n",
       "    .dataframe thead th {\n",
       "        text-align: right;\n",
       "    }\n",
       "</style>\n",
       "<table border=\"1\" class=\"dataframe\">\n",
       "  <thead>\n",
       "    <tr style=\"text-align: right;\">\n",
       "      <th></th>\n",
       "      <th>Gender</th>\n",
       "      <th>Experience</th>\n",
       "      <th>Salary</th>\n",
       "      <th>Female</th>\n",
       "    </tr>\n",
       "  </thead>\n",
       "  <tbody>\n",
       "    <tr>\n",
       "      <th>24</th>\n",
       "      <td>Female</td>\n",
       "      <td>11</td>\n",
       "      <td>70800</td>\n",
       "      <td>1</td>\n",
       "    </tr>\n",
       "    <tr>\n",
       "      <th>43</th>\n",
       "      <td>Female</td>\n",
       "      <td>9</td>\n",
       "      <td>59600</td>\n",
       "      <td>1</td>\n",
       "    </tr>\n",
       "    <tr>\n",
       "      <th>144</th>\n",
       "      <td>Male</td>\n",
       "      <td>7</td>\n",
       "      <td>53400</td>\n",
       "      <td>0</td>\n",
       "    </tr>\n",
       "    <tr>\n",
       "      <th>21</th>\n",
       "      <td>Female</td>\n",
       "      <td>18</td>\n",
       "      <td>68000</td>\n",
       "      <td>1</td>\n",
       "    </tr>\n",
       "    <tr>\n",
       "      <th>129</th>\n",
       "      <td>Female</td>\n",
       "      <td>15</td>\n",
       "      <td>102400</td>\n",
       "      <td>1</td>\n",
       "    </tr>\n",
       "  </tbody>\n",
       "</table>\n",
       "</div>"
      ],
      "text/plain": [
       "     Gender  Experience  Salary  Female\n",
       "24   Female          11   70800       1\n",
       "43   Female           9   59600       1\n",
       "144    Male           7   53400       0\n",
       "21   Female          18   68000       1\n",
       "129  Female          15  102400       1"
      ]
     },
     "execution_count": 43,
     "metadata": {},
     "output_type": "execute_result"
    }
   ],
   "source": [
    "def prepare_data(df):\n",
    "    \"\"\" Given a pd.DataFrame, returns a pd.DataFrame where the 'Female' column\n",
    "        is encoded as \n",
    "            1 - If 'Gender' == 'Female'\n",
    "            0 - Otherwise\n",
    "    \n",
    "        Parameters\n",
    "        ----------\n",
    "        df : pd.DataFrame\n",
    "            Assumed to have a column named 'Gender'\n",
    "            \n",
    "        Returns\n",
    "        -------\n",
    "        pd.DataFrame\n",
    "    \"\"\"\n",
    "    df['Female']=(df['Gender'] =='Female').astype(int) # create dummy variable for gender (last part converts True/F to 1/0)\n",
    "    return df\n",
    "\n",
    "\n",
    "train = prepare_data(train)\n",
    "test = prepare_data(test)\n",
    "\n",
    "train.head()"
   ]
  },
  {
   "cell_type": "markdown",
   "metadata": {},
   "source": [
    "Creating other types of variables is easy. We know that salaries tend to increase in percentage terms every year, so that it is plausible that the relationship between salary and experience may be better described as a log-linear relationship. The log transformation may also help to reduce the positive skewness that we found in the EDA. "
   ]
  },
  {
   "cell_type": "markdown",
   "metadata": {},
   "source": [
    "## Linear Regression\n",
    "\n",
    "There are several ways to estimate a linear regresssion in Python. In this tutorial, we use the statmodels package, as it generates [more informative](http://www.statsmodels.org/dev/generated/statsmodels.regression.linear_model.OLSResults.html) outputs and results."
   ]
  },
  {
   "cell_type": "code",
   "execution_count": 12,
   "metadata": {},
   "outputs": [
    {
     "name": "stdout",
     "output_type": "stream",
     "text": [
      "                            OLS Regression Results                            \n",
      "==============================================================================\n",
      "Dep. Variable:                 Salary   R-squared:                       0.426\n",
      "Model:                            OLS   Adj. R-squared:                  0.418\n",
      "Method:                 Least Squares   F-statistic:                     52.64\n",
      "Date:                Sat, 13 Mar 2021   Prob (F-statistic):           7.86e-18\n",
      "Time:                        09:29:58   Log-Likelihood:                -1612.9\n",
      "No. Observations:                 145   AIC:                             3232.\n",
      "Df Residuals:                     142   BIC:                             3241.\n",
      "Df Model:                           2                                         \n",
      "Covariance Type:            nonrobust                                         \n",
      "==============================================================================\n",
      "                 coef    std err          t      P>|t|      [0.025      0.975]\n",
      "------------------------------------------------------------------------------\n",
      "Intercept    7.04e+04   3275.348     21.494      0.000    6.39e+04    7.69e+04\n",
      "Female     -1.509e+04   2923.604     -5.163      0.000   -2.09e+04   -9314.643\n",
      "Experience  1689.0606    190.832      8.851      0.000    1311.821    2066.300\n",
      "==============================================================================\n",
      "Omnibus:                       17.537   Durbin-Watson:                   1.999\n",
      "Prob(Omnibus):                  0.000   Jarque-Bera (JB):               47.882\n",
      "Skew:                           0.383   Prob(JB):                     4.00e-11\n",
      "Kurtosis:                       5.709   Cond. No.                         39.4\n",
      "==============================================================================\n",
      "\n",
      "Warnings:\n",
      "[1] Standard Errors assume that the covariance matrix of the errors is correctly specified.\n"
     ]
    }
   ],
   "source": [
    "import statsmodels.formula.api as smf\n",
    "\n",
    "formula='Salary ~ Female + Experience'\n",
    "ols = smf.ols(formula=formula, data=train).fit()\n",
    "print(ols.summary())"
   ]
  },
  {
   "cell_type": "markdown",
   "metadata": {},
   "source": [
    "The output is difficult to read because of the scale of the salary variable.  We can improve it by expressing the salary in thousands.  Using the formula approach makes it easier to transform variables for purposes of estimating the regression. "
   ]
  },
  {
   "cell_type": "code",
   "execution_count": 13,
   "metadata": {},
   "outputs": [
    {
     "name": "stdout",
     "output_type": "stream",
     "text": [
      "                               OLS Regression Results                              \n",
      "===================================================================================\n",
      "Dep. Variable:     np.divide(Salary, 1000)   R-squared:                       0.426\n",
      "Model:                                 OLS   Adj. R-squared:                  0.418\n",
      "Method:                      Least Squares   F-statistic:                     52.64\n",
      "Date:                     Sat, 13 Mar 2021   Prob (F-statistic):           7.86e-18\n",
      "Time:                             09:30:00   Log-Likelihood:                -611.30\n",
      "No. Observations:                      145   AIC:                             1229.\n",
      "Df Residuals:                          142   BIC:                             1238.\n",
      "Df Model:                                2                                         \n",
      "Covariance Type:                 nonrobust                                         \n",
      "==============================================================================\n",
      "                 coef    std err          t      P>|t|      [0.025      0.975]\n",
      "------------------------------------------------------------------------------\n",
      "Intercept     70.4000      3.275     21.494      0.000      63.925      76.875\n",
      "Female       -15.0941      2.924     -5.163      0.000     -20.873      -9.315\n",
      "Experience     1.6891      0.191      8.851      0.000       1.312       2.066\n",
      "==============================================================================\n",
      "Omnibus:                       17.537   Durbin-Watson:                   1.999\n",
      "Prob(Omnibus):                  0.000   Jarque-Bera (JB):               47.882\n",
      "Skew:                           0.383   Prob(JB):                     4.00e-11\n",
      "Kurtosis:                       5.709   Cond. No.                         39.4\n",
      "==============================================================================\n",
      "\n",
      "Warnings:\n",
      "[1] Standard Errors assume that the covariance matrix of the errors is correctly specified.\n"
     ]
    }
   ],
   "source": [
    "formula='np.divide(Salary, 1000) ~ Female + Experience'\n",
    "ols = smf.ols(formula=formula, data=train).fit()\n",
    "print(ols.summary())"
   ]
  },
  {
   "cell_type": "markdown",
   "metadata": {},
   "source": [
    "If were compare a male and female employee with the same level of experience, we would expect the female employee to earn 15.1K less according to this estimate (note: coefficients depend on the random split into training and test data, so you might get different values). The coefficient for the Female variable is statistically significant, so that we can reliably conclude that the female employees have lower salaries on average controlling for experience. \n",
    "\n",
    "Is this model appropriate for the data? We should use residual diagnostics to check. The diagnostic plot below reveals a nonlinear pattern in the residuals, which means that the linear specification is not correct for this data. We should try to improve the model by considering a log transformation (suggested by domain knowledge and EDA) and an interaction term (suggested by EDA). "
   ]
  },
  {
   "cell_type": "code",
   "execution_count": 14,
   "metadata": {},
   "outputs": [
    {
     "data": {
      "image/png": "[encoded data removed]",
      "text/plain": [
       "<Figure size 432x288 with 1 Axes>"
      ]
     },
     "metadata": {
      "needs_background": "light"
     },
     "output_type": "display_data"
    }
   ],
   "source": [
    "fig, ax= plt.subplots()\n",
    "\n",
    "# Note that we are getting the fitted values and the residuals from the regression results here\n",
    "# The lowess option fits a nonparametric regression to the scatter plot, allowing us to visualise possible nonlinear patterns\n",
    "\n",
    "sns.regplot(ols.fittedvalues, ols.resid, scatter_kws={'s' : 25}, lowess=True, ax=ax) \n",
    "ax.set_ylabel('Residuals')\n",
    "ax.set_xlabel('Fitted values')\n",
    "sns.despine()\n",
    "plt.show()"
   ]
  },
  {
   "cell_type": "markdown",
   "metadata": {},
   "source": [
    "Interpret the two models below (especially the coefficients). Note that the second model includes a an interaction term (for gender and experience)."
   ]
  },
  {
   "cell_type": "code",
   "execution_count": 15,
   "metadata": {},
   "outputs": [
    {
     "name": "stdout",
     "output_type": "stream",
     "text": [
      "                            OLS Regression Results                            \n",
      "==============================================================================\n",
      "Dep. Variable:         np.log(Salary)   R-squared:                       0.377\n",
      "Model:                            OLS   Adj. R-squared:                  0.368\n",
      "Method:                 Least Squares   F-statistic:                     42.90\n",
      "Date:                Sat, 13 Mar 2021   Prob (F-statistic):           2.67e-15\n",
      "Time:                        09:30:07   Log-Likelihood:                 41.754\n",
      "No. Observations:                 145   AIC:                            -77.51\n",
      "Df Residuals:                     142   BIC:                            -68.58\n",
      "Df Model:                           2                                         \n",
      "Covariance Type:            nonrobust                                         \n",
      "==============================================================================\n",
      "                 coef    std err          t      P>|t|      [0.025      0.975]\n",
      "------------------------------------------------------------------------------\n",
      "Intercept     11.1676      0.036    308.103      0.000      11.096      11.239\n",
      "Female        -0.1530      0.032     -4.730      0.000      -0.217      -0.089\n",
      "Experience     0.0168      0.002      7.949      0.000       0.013       0.021\n",
      "==============================================================================\n",
      "Omnibus:                        2.184   Durbin-Watson:                   1.970\n",
      "Prob(Omnibus):                  0.335   Jarque-Bera (JB):                1.713\n",
      "Skew:                          -0.229   Prob(JB):                        0.425\n",
      "Kurtosis:                       3.271   Cond. No.                         39.4\n",
      "==============================================================================\n",
      "\n",
      "Warnings:\n",
      "[1] Standard Errors assume that the covariance matrix of the errors is correctly specified.\n"
     ]
    }
   ],
   "source": [
    "formula='np.log(Salary) ~ Female + Experience'\n",
    "ols = smf.ols(formula=formula, data=train).fit()\n",
    "print(ols.summary())"
   ]
  },
  {
   "cell_type": "code",
   "execution_count": 16,
   "metadata": {},
   "outputs": [
    {
     "name": "stdout",
     "output_type": "stream",
     "text": [
      "                            OLS Regression Results                            \n",
      "==============================================================================\n",
      "Dep. Variable:         np.log(Salary)   R-squared:                       0.427\n",
      "Model:                            OLS   Adj. R-squared:                  0.415\n",
      "Method:                 Least Squares   F-statistic:                     35.06\n",
      "Date:                Sat, 13 Mar 2021   Prob (F-statistic):           5.42e-17\n",
      "Time:                        09:30:08   Log-Likelihood:                 47.894\n",
      "No. Observations:                 145   AIC:                            -87.79\n",
      "Df Residuals:                     141   BIC:                            -75.88\n",
      "Df Model:                           3                                         \n",
      "Covariance Type:            nonrobust                                         \n",
      "=====================================================================================\n",
      "                        coef    std err          t      P>|t|      [0.025      0.975]\n",
      "-------------------------------------------------------------------------------------\n",
      "Intercept            11.0863      0.042    265.336      0.000      11.004      11.169\n",
      "Female                0.0149      0.057      0.263      0.793      -0.097       0.127\n",
      "Experience            0.0237      0.003      8.396      0.000       0.018       0.029\n",
      "Experience:Female    -0.0144      0.004     -3.530      0.001      -0.022      -0.006\n",
      "==============================================================================\n",
      "Omnibus:                        4.776   Durbin-Watson:                   1.981\n",
      "Prob(Omnibus):                  0.092   Jarque-Bera (JB):                4.638\n",
      "Skew:                          -0.292   Prob(JB):                       0.0984\n",
      "Kurtosis:                       3.654   Cond. No.                         75.2\n",
      "==============================================================================\n",
      "\n",
      "Warnings:\n",
      "[1] Standard Errors assume that the covariance matrix of the errors is correctly specified.\n"
     ]
    }
   ],
   "source": [
    "formula='np.log(Salary) ~ Female + Experience + Experience:Female'\n",
    "ols = smf.ols(formula=formula, data=train).fit()\n",
    "print(ols.summary())"
   ]
  },
  {
   "cell_type": "markdown",
   "metadata": {},
   "source": [
    "We can check that this last specification improves the residuals."
   ]
  },
  {
   "cell_type": "code",
   "execution_count": 17,
   "metadata": {},
   "outputs": [
    {
     "data": {
      "image/png": "[encoded data removed]",
      "text/plain": [
       "<Figure size 432x288 with 1 Axes>"
      ]
     },
     "metadata": {
      "needs_background": "light"
     },
     "output_type": "display_data"
    }
   ],
   "source": [
    "fig, ax= plt.subplots()\n",
    "sns.regplot(ols.fittedvalues, ols.resid, scatter_kws={'s': 25}, lowess=True, ax=ax)\n",
    "ax.set_ylabel('Residuals')\n",
    "ax.set_xlabel('Fitted values')\n",
    "sns.despine()\n",
    "plt.show()"
   ]
  },
  {
   "cell_type": "markdown",
   "metadata": {},
   "source": [
    "\n",
    "\n",
    "\n",
    "\n",
    "\n",
    "## Model Evaluation\n",
    "\n",
    "We now compare different specifications on the test data. Note that for the models with a log transformed response, we use an appropriate retransformation and an adjustment when computing the predictions for salary. \n",
    "\n",
    "We should be careful with our analysis since there are not many test cases. Here are some tentative conclusions. \n",
    "\n",
    "* The models with an interaction term predict better than the ones without.\n",
    "\n",
    "\n",
    "* When comparing the two models with the interaction term, the log model has slightly better predictive ability."
   ]
  },
  {
   "cell_type": "code",
   "execution_count": 18,
   "metadata": {
    "scrolled": true
   },
   "outputs": [
    {
     "data": {
      "text/html": [
       "<div>\n",
       "<style scoped>\n",
       "    .dataframe tbody tr th:only-of-type {\n",
       "        vertical-align: middle;\n",
       "    }\n",
       "\n",
       "    .dataframe tbody tr th {\n",
       "        vertical-align: top;\n",
       "    }\n",
       "\n",
       "    .dataframe thead th {\n",
       "        text-align: right;\n",
       "    }\n",
       "</style>\n",
       "<table border=\"1\" class=\"dataframe\">\n",
       "  <thead>\n",
       "    <tr style=\"text-align: right;\">\n",
       "      <th></th>\n",
       "      <th>RMSE</th>\n",
       "      <th>R-Squared</th>\n",
       "    </tr>\n",
       "  </thead>\n",
       "  <tbody>\n",
       "    <tr>\n",
       "      <th>Base Model</th>\n",
       "      <td>17795.96</td>\n",
       "      <td>0.46</td>\n",
       "    </tr>\n",
       "    <tr>\n",
       "      <th>Interaction</th>\n",
       "      <td>15052.05</td>\n",
       "      <td>0.61</td>\n",
       "    </tr>\n",
       "    <tr>\n",
       "      <th>Log Transform</th>\n",
       "      <td>17337.79</td>\n",
       "      <td>0.49</td>\n",
       "    </tr>\n",
       "    <tr>\n",
       "      <th>Log Transform + Interaction</th>\n",
       "      <td>14851.05</td>\n",
       "      <td>0.62</td>\n",
       "    </tr>\n",
       "  </tbody>\n",
       "</table>\n",
       "</div>"
      ],
      "text/plain": [
       "                                 RMSE  R-Squared\n",
       "Base Model                   17795.96       0.46\n",
       "Interaction                  15052.05       0.61\n",
       "Log Transform                17337.79       0.49\n",
       "Log Transform + Interaction  14851.05       0.62"
      ]
     },
     "execution_count": 18,
     "metadata": {},
     "output_type": "execute_result"
    }
   ],
   "source": [
    "from sklearn.metrics import mean_squared_error\n",
    "from sklearn.metrics import r2_score\n",
    "\n",
    "rmse=[]       # initialize the rmse list\n",
    "r2=[]         # initialize the r-squared list\n",
    "\n",
    "# Model 1\n",
    "formula='Salary ~ Female + Experience'\n",
    "ols = smf.ols(formula=formula, data=train).fit()       # run the ols model\n",
    "predictions = ols.predict(test)       # use the model to make predictions on the test data \n",
    "rmse.append(np.sqrt(mean_squared_error(test['Salary'], predictions)))  # evaluate the rmse and add it to the rmse list\n",
    "r2.append(r2_score(test['Salary'], predictions))                   # evaluate the r-squared and add it to the r-squared list\n",
    "\n",
    "# Model 2\n",
    "formula='Salary ~ Female + Experience + Experience:Female'\n",
    "ols = smf.ols(formula=formula, data=train).fit()\n",
    "predictions = ols.predict(test)\n",
    "rmse.append(np.sqrt(mean_squared_error(test['Salary'], predictions)))\n",
    "r2.append(r2_score(test['Salary'], predictions))\n",
    "\n",
    "# Model 3\n",
    "formula='np.log(Salary) ~ Female + Experience'\n",
    "ols = smf.ols(formula=formula, data=train).fit()\n",
    "predictions = np.exp(ols.predict(test))*np.mean(np.exp(ols.resid))\n",
    "rmse.append(np.sqrt(mean_squared_error(test['Salary'], predictions)))\n",
    "r2.append(r2_score(test['Salary'], predictions))\n",
    "\n",
    "# Model 4\n",
    "formula='np.log(Salary) ~ Female + Experience + Experience:Female'\n",
    "ols= smf.ols(formula=formula, data=train).fit()\n",
    "predictions = np.exp(ols.predict(test))*np.mean(np.exp(ols.resid))\n",
    "rmse.append(np.sqrt(mean_squared_error(test['Salary'], predictions)))\n",
    "r2.append(r2_score(test['Salary'], predictions))\n",
    "\n",
    "\n",
    "# Initialise the table that will display the results\n",
    "columns=['RMSE', 'R-Squared']\n",
    "rows=['Base Model',  'Interaction', 'Log Transform', 'Log Transform + Interaction']\n",
    "results = pd.DataFrame(0.0, columns=columns, index=rows)\n",
    "\n",
    "# Fill out the table\n",
    "for i in range(4):\n",
    "    results.iloc[i, 0] = rmse[i]\n",
    "    results.iloc[i, 1] = r2[i]\n",
    "    \n",
    "results.round(2)"
   ]
  },
  {
   "cell_type": "code",
   "execution_count": null,
   "metadata": {},
   "outputs": [],
   "source": []
  },
  {
   "cell_type": "markdown",
   "metadata": {},
   "source": [
    "<hr style=\"height:2px;border-width:0;color:black;background-color:black\">\n",
    "\n",
    "### A Warning When Modeling\n",
    "In the real world, if you are not careful with the input variables you use, you can get into real trouble.\n",
    "\n",
    "When you do life modeling (modeling when people will die) for insurance reasons, it is a rule that you cannot use one's gender nor their ethnicity as modeling predictors. Eventhough these predictors may have high correlation with their life expectancy, it is a big no-no because \n",
    "\n",
    "    He missed the point. In mathematics and science, there is no difference in the intelligence of men and women. The difference in genes between men and women is simply the Y chromosome, which has nothing to do with intelligence.\n",
    "    - Dr Christiane Nüsslein-Volhard, the 1995 Nobel laureate in physiology and medicine\n",
    "    \n",
    "In the same sense, when we are trying to model one's salary we should be very careful in what we want our model to do. If we simply want to use our model to observe casual relationships (think correlation), then using these no-no predictors can be okay. But, if we are trying to use the model to make predictions on future data, or make causal inferences (think causation) then it is highly inappropriate to use these predictors.\n",
    "\n",
    "Taken from [The Most Dangerous Equation](https://www.americanscientist.org/article/the-most-dangerous-equation#:~:text=The%20obvious%20winner%20in%20this,the%20construction%20of%20atomic%20bombs) by Howard Wainer:\n",
    "\n",
    "    The familiar linear regression equation contains many pitfalls to trap the unwary. The correlation coefficient that emerges from regression tells us about the strength of the linear relation between the dependent and independent variables. But alas it encourages fallacious attributions of cause and effect. It even encourages fallacious interpretation by those who think they are being careful. (\"I may not be able to believe the exact value of the coefficient, but surely I can use its sign to tell whether increasing the variable will increase or decrease the answer.\") The linear regression equation is also badly non-robust, but its weaknesses are rarely diagnosed appropriately, so many models are misleading. When regression is applied to observational data (as it almost always is), it is difficult to know whether an appropriate set of predictors has been selected—and if we have an inappropriate set, our interpretations are questionable. It is dangerous, ironically, because it can be the most useful model for the widest variety of data when wielded with caution, wisdom and much interaction between the analyst and the computer program.\n",
    "    - Howard Wainer, The Most Dangerous Equation\n",
    "  \n",
    "  \n",
    "For this class, we are usually not that careful with using taboo predictors. The main reason being that we are not trying to make statements about the world. Perhaps this is me being naive, but out main focus is for the students to understand the different models that will be taught in this course. The easiest way to do so is by building them, which is what we will do in this course.\n",
    "\n",
    "<hr style=\"height:2px;border-width:0;color:black;background-color:red\">"
   ]
  }
 ],
 "metadata": {
  "kernelspec": {
   "display_name": "Python 3",
   "language": "python",
   "name": "python3"
  },
  "language_info": {
   "codemirror_mode": {
    "name": "ipython",
    "version": 3
   },
   "file_extension": ".py",
   "mimetype": "text/x-python",
   "name": "python",
   "nbconvert_exporter": "python",
   "pygments_lexer": "ipython3",
   "version": "3.7.6"
  }
 },
 "nbformat": 4,
 "nbformat_minor": 2
}
