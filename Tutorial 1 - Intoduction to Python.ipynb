{
 "cells": [
  {
   "cell_type": "markdown",
   "metadata": {},
   "source": [
    "<img align=\"center\" src=\"http://sydney.edu.au/images/content/about/logo-mono.jpg\">\n",
    "<h1 align=\"center\" style=\"margin-top:10px\">Statistical Learning and Data Mining (QBUS6810)</h1>\n",
    "<h2 align=\"center\" style=\"margin-top:10px\">Tutorials 1 and 2: Introduction to Python</h2>\n",
    "<br>"
   ]
  },
  {
   "cell_type": "markdown",
   "metadata": {},
   "source": [
    "<hr style=\"height:2px;border-width:0;color:black;background-color:black\">\n",
    "\n",
    "Hi all, I'm James (email: mcho8151@uni.sydney.edu.au), and I'm a PhD student in computation and applied mathematics at USYD currently researching in Machine Learning. Basically, I basically program for a living, and I program in Python. My GitHub (https://github.com/infamoussoap), there isn't much because most of my code is for research and needs to be private. But once the research is finished I can publish the code.\n",
    "\n",
    "Because my research area is on the border of applied and theoretical, I know quite a bit about both the applied machine learning (like alphago, alphastar, gpt-3) and the theortical aspects of them (like the lottery tickey hypothesis, double and even triple gradient descent). So if you do have any questions about machine learning, feel free to ask me.\n",
    "\n",
    "Before we begin I want to say a couple of things."
   ]
  },
  {
   "cell_type": "markdown",
   "metadata": {},
   "source": [
    "### Padlet - Ask Questions During Tutorial Anonynomously\n",
    "\n",
    "https://padlet.com/mcho8151/y0j6hki4i474tjvb\n"
   ]
  },
  {
   "cell_type": "markdown",
   "metadata": {},
   "source": [
    "### How these tutorials work\n",
    "In each tutorial, there will be a dedicated tutorial content that we will go over. Now this is usually the Jupyter-notebooks, but in ~2 tutorials it will be math focused. This content will usually last for about ~40 min, so it means we have ~20 min left to do a quick review of last weeks lecture. \n"
   ]
  },
  {
   "cell_type": "markdown",
   "metadata": {},
   "source": [
    "### Updated Notebook\n",
    "First thing, before we start is that most tutorials I will be editing these notebooks in a significant way. So if you do want my updated notebook be sure to send me an email (mcho8151@uni.sydney.edu.au) with the title being\n",
    "    \n",
    "    QBUS6810 Tutorial Sem 1 2021 - [YOUR NAME]\n",
    "    \n",
    "Obviously replace `[YOUR NAME]` with your name. So if I was to send it I would write\n",
    "\n",
    "    QBUS6810 Tutorial Sem 1 2021 - James Chok\n",
    "\n",
    "as the title. <b> It is very important you write \"QBUS6810 Tutorial Sem 1 2021\" </b>, because I'm just going to `ctrl+f` and search for `QBUS6810 Tutorial Sem 1 2021` and copy all the emails. So if you don't write that I won't find your email.\n",
    "\n",
    "As for the body of the email, you are welcomed to leave it blank, but I'd really appreciate it if people would send me \n",
    "- programming experience and what language they used (Important one)\n",
    "- what degree they are doing \n",
    "- courses taken/taking right now \n",
    "- any questions you may have for me\n",
    "\n",
    "I'd just like to know because I'm just curious about my students. \n",
    "\n",
    "The email doesn't have to be too formal, I'm not one for formalities nor do I really like formalities, but obviously don't write something too inappropriate."
   ]
  },
  {
   "cell_type": "markdown",
   "metadata": {},
   "source": [
    "### Programming and this Course\n",
    "Second Thing, if programming is not your strong suit then don't worry too much. \n",
    "\n",
    "You should really be thinking of programming as a tool to help use built and understand what is taught in the lecture. You can think about it much like using a hammer to built a house to live in. In the beginning you are interested in the hammer because it helps you built the house. But once the houe is built, you don't care about the hammer any more.\n",
    "\n",
    "Much in the same way, we are going to use Python to help us built the models. Then once we built the models, we can then see if we can find anything interesting, and see how it relates to what we learnt in the lectuers\n",
    "\n",
    "<b> This is NOT to say that you don't have to program in this course, because you do need to learn how! </b> Rather, that the focus on this course is theory with a sprinkle of programming, and not only focused on programming. \n",
    "\n",
    "As such, if you do have any question on your code (even for your assignments) then you are more than welcomed to ask us either through email or on ed."
   ]
  },
  {
   "cell_type": "markdown",
   "metadata": {},
   "source": [
    "### Edits to Notebook\n",
    "Last thing: the edits I do to the notebooks will be inside the black and red lines. The black line will indicate beginning of my edits, and the red being the end of my edits."
   ]
  },
  {
   "cell_type": "markdown",
   "metadata": {},
   "source": [
    "<hr style=\"height:2px;border-width:0;color:black;background-color:red\">\n"
   ]
  },
  {
   "cell_type": "markdown",
   "metadata": {},
   "source": [
    "We will be using Python 3.8 in our tutorials. Instructions for setting up Python on your personal computer by installing the Anaconda distribution are provided on Canvas (https://canvas.sydney.edu.au/courses/31594/pages/setting-up-python)"
   ]
  },
  {
   "cell_type": "markdown",
   "metadata": {},
   "source": [
    "<hr style=\"height:2px;border-width:0;color:black;background-color:black\">\n",
    "\n",
    "To see which python verison you are using, type"
   ]
  },
  {
   "cell_type": "code",
   "execution_count": 1,
   "metadata": {},
   "outputs": [
    {
     "name": "stdout",
     "output_type": "stream",
     "text": [
      "Python 3.7.6\r\n"
     ]
    }
   ],
   "source": [
    "!python --version"
   ]
  },
  {
   "cell_type": "markdown",
   "metadata": {},
   "source": [
    "You can see that, unlike what the notebook says, I'm using Python 3.7. I suspect this would be the case for some people, especially if you programmed in python before.\n",
    "\n",
    "Not to worry though, Python 3.7 is one of the most compatible versions of Python still. So anything that works in Python 3.8 should work in 3.7. Now\n",
    "\n",
    "1. If there is a situation in which we something won't work in 3.7 then I will tell you.\n",
    "2. If you really do want to use 3.8 then you can do it by creating a new anaconda environment. You can just email on how to do this"
   ]
  },
  {
   "cell_type": "markdown",
   "metadata": {},
   "source": [
    "### How to use Notebook\n",
    "\n",
    "Creating new cell\n",
    "- '+' button will add a cell bellow\n",
    "- Shortcut: 'esc' -> 'a' will add a cell above\n",
    "- Shortcut: 'esc' -> 'b' will add a cell below\n",
    "\n",
    "Deleting cell\n",
    "- 'scissors' button\n",
    "- Shortcut: 'esc' -> 'dd' (press d twice) will delete the current cell\n",
    "\n",
    "Undo Delete Cell\n",
    "- 'Edit' -> 'Undo Delete Cell'\n",
    "\n",
    "More Shortcuts\n",
    "- 'esc' -> 'h' will show list of shortcuts"
   ]
  },
  {
   "cell_type": "markdown",
   "metadata": {},
   "source": [
    "<hr style=\"height:2px;border-width:0;color:black;background-color:red\">\n"
   ]
  },
  {
   "cell_type": "markdown",
   "metadata": {},
   "source": [
    "In order to write python code, we will be using **Jupyter-notebook** interface. To run a cell you can press Ctrl+Enter (or my favourite Shift+Enter) or hit the Play button at the top.\n",
    "\n",
    "\n",
    "### 1. The Basics\n",
    "\n",
    "#### 1.1. Getting Started\n",
    "\n",
    "\n",
    "To get started, you can use your Notebook as a calculator. For example:"
   ]
  },
  {
   "cell_type": "code",
   "execution_count": 11,
   "metadata": {},
   "outputs": [
    {
     "data": {
      "text/plain": [
       "4"
      ]
     },
     "execution_count": 11,
     "metadata": {},
     "output_type": "execute_result"
    }
   ],
   "source": [
    "2 + 2"
   ]
  },
  {
   "cell_type": "code",
   "execution_count": 15,
   "metadata": {},
   "outputs": [
    {
     "data": {
      "text/plain": [
       "1.25"
      ]
     },
     "execution_count": 15,
     "metadata": {},
     "output_type": "execute_result"
    }
   ],
   "source": [
    "5/4"
   ]
  },
  {
   "cell_type": "markdown",
   "metadata": {},
   "source": [
    "Exercise: Identify the use of following arithmetic operators.  $+, -, *, /, **, \\% $"
   ]
  },
  {
   "cell_type": "code",
   "execution_count": 28,
   "metadata": {},
   "outputs": [
    {
     "data": {
      "text/plain": [
       "0"
      ]
     },
     "execution_count": 28,
     "metadata": {},
     "output_type": "execute_result"
    }
   ],
   "source": [
    "4 % 2"
   ]
  },
  {
   "cell_type": "markdown",
   "metadata": {},
   "source": [
    "The following statement assigns a value to the variable x. Because the variable does not yet exist, the assignment statements creates the variable."
   ]
  },
  {
   "cell_type": "code",
   "execution_count": 29,
   "metadata": {},
   "outputs": [
    {
     "data": {
      "text/plain": [
       "7"
      ]
     },
     "execution_count": 29,
     "metadata": {},
     "output_type": "execute_result"
    }
   ],
   "source": [
    "x = 5\n",
    "x + 2"
   ]
  },
  {
   "cell_type": "markdown",
   "metadata": {},
   "source": [
    "<hr style=\"height:2px;border-width:0;color:black;background-color:black\">\n",
    "\n",
    "### What happens when `x = 5`\n",
    "What will happen is that the computer will create space in the memory and will first name it `x`, and it will then put the value `5` in that position. As such, anytime that the variable `x` is called, the computer will go to memory, check to see if `x` is there and return the value it stored in it.\n",
    "\n",
    "So what happens if we do `y + 2`"
   ]
  },
  {
   "cell_type": "code",
   "execution_count": 30,
   "metadata": {},
   "outputs": [
    {
     "ename": "NameError",
     "evalue": "name 'y' is not defined",
     "output_type": "error",
     "traceback": [
      "\u001b[0;31m---------------------------------------------------------------------------\u001b[0m",
      "\u001b[0;31mNameError\u001b[0m                                 Traceback (most recent call last)",
      "\u001b[0;32m<ipython-input-30-71441aaf0ee0>\u001b[0m in \u001b[0;36m<module>\u001b[0;34m\u001b[0m\n\u001b[0;32m----> 1\u001b[0;31m \u001b[0my\u001b[0m \u001b[0;34m+\u001b[0m \u001b[0;36m2\u001b[0m\u001b[0;34m\u001b[0m\u001b[0;34m\u001b[0m\u001b[0m\n\u001b[0m",
      "\u001b[0;31mNameError\u001b[0m: name 'y' is not defined"
     ]
    }
   ],
   "source": [
    "y + 2"
   ]
  },
  {
   "cell_type": "markdown",
   "metadata": {},
   "source": [
    "So the computer will go to memory to find the name `y`. But currently, it only has the variable `x` in there - there is no `y`! Because of that, it tells us the `'y'` is not defined, because it is not !"
   ]
  },
  {
   "cell_type": "markdown",
   "metadata": {},
   "source": [
    "\n",
    "### Aside - Why `x`\n",
    "Why did we write `x = 5`? The simple answer is because we want to! We can instead write "
   ]
  },
  {
   "cell_type": "code",
   "execution_count": 28,
   "metadata": {},
   "outputs": [
    {
     "data": {
      "text/plain": [
       "12"
      ]
     },
     "execution_count": 28,
     "metadata": {},
     "output_type": "execute_result"
    }
   ],
   "source": [
    "gobble_gobble = 10\n",
    "gobble_gobble + 2"
   ]
  },
  {
   "cell_type": "markdown",
   "metadata": {},
   "source": [
    "Also because this is python, we can even use unicode fonts (different languages)!"
   ]
  },
  {
   "cell_type": "code",
   "execution_count": 31,
   "metadata": {},
   "outputs": [
    {
     "data": {
      "text/plain": [
       "15"
      ]
     },
     "execution_count": 31,
     "metadata": {},
     "output_type": "execute_result"
    }
   ],
   "source": [
    "# Bulgarian\n",
    "български = 13\n",
    "български + 2"
   ]
  },
  {
   "cell_type": "code",
   "execution_count": 32,
   "metadata": {},
   "outputs": [
    {
     "data": {
      "text/plain": [
       "24"
      ]
     },
     "execution_count": 32,
     "metadata": {},
     "output_type": "execute_result"
    }
   ],
   "source": [
    "# Japanese\n",
    "日本語 = 14\n",
    "日本語 + 10"
   ]
  },
  {
   "cell_type": "markdown",
   "metadata": {},
   "source": [
    "HOWEVER, it is recommeded by the [Python Gods](https://www.python.org/dev/peps/pep-0008/#source-file-encoding) that: \n",
    "- your code is written in english (more specifically in ASCII rather than Unicode). OR\n",
    "- Any language you like, so long as you are 120% sure that the code will never be read by people who don't speak your language. [See Link](https://www.python.org/dev/peps/pep-0008/#source-file-encoding)\n",
    "\n",
    "<hr style=\"height:2px;border-width:0;color:black;background-color:red\">\n"
   ]
  },
  {
   "cell_type": "markdown",
   "metadata": {},
   "source": [
    "The print function allows us to display information."
   ]
  },
  {
   "cell_type": "code",
   "execution_count": 33,
   "metadata": {
    "scrolled": true
   },
   "outputs": [
    {
     "name": "stdout",
     "output_type": "stream",
     "text": [
      "For truth is always strange; stranger than fiction.\n"
     ]
    }
   ],
   "source": [
    "print('For truth is always strange; stranger than fiction.')  # Lord Byron (the # starts a comment)"
   ]
  },
  {
   "cell_type": "markdown",
   "metadata": {},
   "source": [
    "We can also use the print function to output values."
   ]
  },
  {
   "cell_type": "code",
   "execution_count": 23,
   "metadata": {},
   "outputs": [
    {
     "name": "stdout",
     "output_type": "stream",
     "text": [
      "10\n"
     ]
    }
   ],
   "source": [
    "x = 10\n",
    "print(x)"
   ]
  },
  {
   "cell_type": "code",
   "execution_count": 26,
   "metadata": {},
   "outputs": [
    {
     "name": "stdout",
     "output_type": "stream",
     "text": [
      "13\n"
     ]
    }
   ],
   "source": [
    "print(български)"
   ]
  },
  {
   "cell_type": "markdown",
   "metadata": {},
   "source": [
    "#### 1.2. Modules\n",
    "\n",
    "The Python language by design has a small core. Most of the fuctionality that we need is in modules or packages that we need to explicity load into our session. There are two ways to do this: either by loading the entire package (or a subset of it) or a specific function."
   ]
  },
  {
   "cell_type": "code",
   "execution_count": 36,
   "metadata": {},
   "outputs": [
    {
     "data": {
      "text/plain": [
       "3.0"
      ]
     },
     "execution_count": 36,
     "metadata": {},
     "output_type": "execute_result"
    }
   ],
   "source": [
    "import numpy as np  # here np is used as an alias or an abbreviation\n",
    "np.sqrt(9)"
   ]
  },
  {
   "cell_type": "markdown",
   "metadata": {},
   "source": [
    "<hr style=\"height:2px;border-width:0;color:black;background-color:black\">"
   ]
  },
  {
   "cell_type": "markdown",
   "metadata": {},
   "source": [
    "### More on Modules - Dewey Decimal System\n",
    "\n",
    "| 000 - Computer Science, information & general works | 100 - Philosophy | 500 - Science |\n",
    "| :- | :- | :- |\n",
    "| 000 - Computer Science | 100 - Philosophy & Psychology | 500 - Natural Science\n",
    "| 010 - Bibliographies | 110 - Metaphysics | 510 - Mathematics\n",
    "| 020 - Library and Information Science | 120 - Epistemology | 520 - Astronomy\n",
    "| 030 - Encyclopedias | 130 - Parapsychology & Occultisim | 530 - Physics\n",
    "\n",
    "So when you go to a Western Library, think the library at USYD, the books are organised using the Dewey decimal system. This places certain books in certain numbers, so 000-099 is reserved for Computer science, information & general works, 100-199 for Philosophy, 500-599 for Science, etc. THis continues from 000-999.\n",
    "\n",
    "So suppose then I wanted to go to the Mathematics section in the library. WHat I first need to do is go to the Science section of the library, then inside the science section go to the Mathematics section. So the order would be `Science -> Mathematics`.\n",
    "\n",
    "The exact idea applies when we write `np.sqrt`. First thing we do is say which section of the library we want. So when we write `import numpy as np` we are telling the computer that we want the `numpy` isle (we want to go to the science section). But also, instead of saying science we rename it to `sci` or `s` or `c` or what ever name we want. In this case we want the `numpy` section and we renamed the section as `np`.\n",
    "\n",
    "Now inside the `np` section, we want to go to the `sqrt` sub-section. The way to do that is to use `.`. So if I want to go into mathematics, then Python would write it as `Science.Mathematics`, instead of `Science -> Mathematics`. As such when we write `np.sqrt` we are saying: inside the `np` section, go to the `sqrt` isle.\n",
    "\n",
    "Now you can also imagine that in mathematics there is calculus, there linear algebra, vector calculus, etc. Then to go into those isle you need to do `Science -> Mathematics -> Linear Algebra`. And every time you go down an isle, in python, you would use `.`.\n",
    "\n",
    "So in the code below, we are saying `np -> random -> rand`."
   ]
  },
  {
   "cell_type": "code",
   "execution_count": 3,
   "metadata": {},
   "outputs": [
    {
     "data": {
      "text/plain": [
       "array([0.33180789, 0.10575739, 0.19104623, 0.92697024])"
      ]
     },
     "execution_count": 3,
     "metadata": {},
     "output_type": "execute_result"
    }
   ],
   "source": [
    "np.random.rand(4)"
   ]
  },
  {
   "cell_type": "markdown",
   "metadata": {},
   "source": [
    "### Numpy and Other LIbrarys\n",
    "| Numpy | sklearn |\n",
    "| :- | :- |\n",
    "| random | model_selection |\n",
    "| max | linear_model |\n",
    "| sqrt | neighbours |\n",
    "| sort | ... |"
   ]
  },
  {
   "cell_type": "markdown",
   "metadata": {},
   "source": [
    "### Aside - Why `np`\n",
    "As before it is equally valid to use any name you want"
   ]
  },
  {
   "cell_type": "code",
   "execution_count": 39,
   "metadata": {},
   "outputs": [
    {
     "data": {
      "text/plain": [
       "4.0"
      ]
     },
     "execution_count": 39,
     "metadata": {},
     "output_type": "execute_result"
    }
   ],
   "source": [
    "import numpy as தமிழ்\n",
    "தமிழ்.sqrt(16)"
   ]
  },
  {
   "cell_type": "markdown",
   "metadata": {},
   "source": [
    "Now unless you speak Tamil, you won't understand what `தமிழ்` means. This is an issue because code is actually read far more than it is written. So when a python programmer reads `தமிழ்` in your code it will be incomprehensible for them. As such, we want to use a more meaningful name.\n",
    "\n",
    "Now the reason why we `import numpy as np` is more due to tradition. Almost all Python programmers will associate (or call) `numpy` as `np`. \n",
    "\n",
    "<hr style=\"height:2px;border-width:0;color:black;background-color:red\">"
   ]
  },
  {
   "cell_type": "code",
   "execution_count": 32,
   "metadata": {},
   "outputs": [
    {
     "data": {
      "text/plain": [
       "10.0"
      ]
     },
     "execution_count": 32,
     "metadata": {},
     "output_type": "execute_result"
    }
   ],
   "source": [
    "from numpy import sqrt\n",
    "sqrt(100)"
   ]
  },
  {
   "cell_type": "markdown",
   "metadata": {},
   "source": [
    "<hr style=\"height:2px;border-width:0;color:black;background-color:black\">"
   ]
  },
  {
   "cell_type": "markdown",
   "metadata": {},
   "source": [
    "What we did up there was a bit different. So now we can go into mathematics using two ways. Before we needed to go `Science -> Mathematics`. But in this case we say, from the `Science` isle give me the `Mathematics` section (Essentially we will borrow the entire `Mathematics` section). So now, because we brought the `Mathematics` to us we no longer need to go through `Science` then into `Mathematics`. Rather we can just go to `Mathematics`."
   ]
  },
  {
   "cell_type": "markdown",
   "metadata": {},
   "source": [
    "<hr style=\"height:2px;border-width:0;color:black;background-color:red\">"
   ]
  },
  {
   "cell_type": "markdown",
   "metadata": {},
   "source": [
    "We will use a number of different Python modules/libraries thoughout this course, including \n",
    "\n",
    "* Pandas - data pre-processing\n",
    "* Matplotlib - plotting\n",
    "* Seaborn - to make plots elegant\n",
    "* StatsModels - statistics\n",
    "* NumPy - scientific computing\n",
    "* Scikit-learn - data mining and statistical/machine learning"
   ]
  },
  {
   "cell_type": "markdown",
   "metadata": {},
   "source": [
    "#### 1.3 Boolean, numerical, and string variables\n",
    "The most basic data type is a Boolean variable, which can be either <TT>True</TT> or <TT>False</TT>."
   ]
  },
  {
   "cell_type": "code",
   "execution_count": 40,
   "metadata": {},
   "outputs": [
    {
     "name": "stdout",
     "output_type": "stream",
     "text": [
      "False\n"
     ]
    }
   ],
   "source": [
    "x = False\n",
    "print(x)"
   ]
  },
  {
   "cell_type": "code",
   "execution_count": 43,
   "metadata": {},
   "outputs": [
    {
     "name": "stdout",
     "output_type": "stream",
     "text": [
      "True\n"
     ]
    }
   ],
   "source": [
    "x = 2 > 0\n",
    "print(x)"
   ]
  },
  {
   "cell_type": "code",
   "execution_count": 36,
   "metadata": {},
   "outputs": [
    {
     "data": {
      "text/plain": [
       "bool"
      ]
     },
     "execution_count": 36,
     "metadata": {},
     "output_type": "execute_result"
    }
   ],
   "source": [
    "type(x)"
   ]
  },
  {
   "cell_type": "markdown",
   "metadata": {},
   "source": [
    "In expressions involving numbers, a <TT>False</TT> is automatically converted to zero and a <TT>True</TT> is converted to one.  For example:"
   ]
  },
  {
   "cell_type": "code",
   "execution_count": 46,
   "metadata": {},
   "outputs": [
    {
     "name": "stdout",
     "output_type": "stream",
     "text": [
      "2\n"
     ]
    }
   ],
   "source": [
    "y = 2*x\n",
    "print(y)"
   ]
  },
  {
   "cell_type": "markdown",
   "metadata": {},
   "source": [
    "The basic numerical data types are integers and floats.  String variables represent text data."
   ]
  },
  {
   "cell_type": "code",
   "execution_count": 44,
   "metadata": {},
   "outputs": [
    {
     "data": {
      "text/plain": [
       "int"
      ]
     },
     "execution_count": 44,
     "metadata": {},
     "output_type": "execute_result"
    }
   ],
   "source": [
    "x = 2\n",
    "type(x)"
   ]
  },
  {
   "cell_type": "code",
   "execution_count": 49,
   "metadata": {},
   "outputs": [
    {
     "data": {
      "text/plain": [
       "float"
      ]
     },
     "execution_count": 49,
     "metadata": {},
     "output_type": "execute_result"
    }
   ],
   "source": [
    "x = 2.0\n",
    "type(x)"
   ]
  },
  {
   "cell_type": "code",
   "execution_count": 14,
   "metadata": {},
   "outputs": [
    {
     "data": {
      "text/plain": [
       "str"
      ]
     },
     "execution_count": 14,
     "metadata": {},
     "output_type": "execute_result"
    }
   ],
   "source": [
    "sentence = 'For truth is always strange; stranger than fiction.' \n",
    "type(sentence)"
   ]
  },
  {
   "cell_type": "code",
   "execution_count": 21,
   "metadata": {},
   "outputs": [
    {
     "data": {
      "text/plain": [
       "str"
      ]
     },
     "execution_count": 21,
     "metadata": {},
     "output_type": "execute_result"
    }
   ],
   "source": [
    "a = \"absdasd\"\n",
    "type(a)"
   ]
  },
  {
   "cell_type": "code",
   "execution_count": 48,
   "metadata": {},
   "outputs": [
    {
     "name": "stdout",
     "output_type": "stream",
     "text": [
      "a: <class 'str'>\n",
      "b: <class 'bool'>\n"
     ]
    }
   ],
   "source": [
    "a = \"True\"\n",
    "b = True\n",
    "print('a:', type(a))\n",
    "print('b:', type(b))"
   ]
  },
  {
   "cell_type": "markdown",
   "metadata": {},
   "source": [
    "#### 1.4. Lists\n",
    "\n",
    "A list is a sequence of values. The individual elements or items of a list can be of any type (even a list)."
   ]
  },
  {
   "cell_type": "code",
   "execution_count": 22,
   "metadata": {},
   "outputs": [
    {
     "data": {
      "text/plain": [
       "list"
      ]
     },
     "execution_count": 22,
     "metadata": {},
     "output_type": "execute_result"
    }
   ],
   "source": [
    "x = [1, 'Science', True]\n",
    "type(x)"
   ]
  },
  {
   "cell_type": "code",
   "execution_count": 50,
   "metadata": {},
   "outputs": [
    {
     "name": "stdout",
     "output_type": "stream",
     "text": [
      "['pad thai', 'souvlaki', 'pizza']\n"
     ]
    }
   ],
   "source": [
    "lunch = ['pad thai', 'souvlaki', 'pizza']\n",
    "\n",
    "print(lunch)"
   ]
  },
  {
   "cell_type": "markdown",
   "metadata": {},
   "source": [
    "#### 1.5. Iteration\n",
    "\n",
    "Iteration allows us to run a block of code repeatedly."
   ]
  },
  {
   "cell_type": "code",
   "execution_count": 51,
   "metadata": {},
   "outputs": [
    {
     "name": "stdout",
     "output_type": "stream",
     "text": [
      "pad thai\n",
      "souvlaki\n",
      "pizza\n"
     ]
    }
   ],
   "source": [
    "for food in lunch:\n",
    "    print(food)  # **tab** print(food)"
   ]
  },
  {
   "cell_type": "code",
   "execution_count": 53,
   "metadata": {
    "scrolled": true
   },
   "outputs": [
    {
     "name": "stdout",
     "output_type": "stream",
     "text": [
      "0\n",
      "1\n",
      "2\n",
      "3\n",
      "4\n"
     ]
    }
   ],
   "source": [
    "for i in range(5):\n",
    "    print(i)"
   ]
  },
  {
   "cell_type": "markdown",
   "metadata": {},
   "source": [
    "<hr style=\"height:2px;border-width:0;color:black;background-color:black\">\n",
    "What is the difference between the two codes"
   ]
  },
  {
   "cell_type": "code",
   "execution_count": 56,
   "metadata": {},
   "outputs": [
    {
     "name": "stdout",
     "output_type": "stream",
     "text": [
      "pad thai\n",
      "10\n",
      "souvlaki\n",
      "10\n",
      "pizza\n",
      "10\n"
     ]
    }
   ],
   "source": [
    "x = 10\n",
    "for food in lunch:\n",
    "    print(food)\n",
    "    print(x)"
   ]
  },
  {
   "cell_type": "code",
   "execution_count": 51,
   "metadata": {},
   "outputs": [
    {
     "name": "stdout",
     "output_type": "stream",
     "text": [
      "pad thai\n",
      "souvlaki\n",
      "pizza\n",
      "10\n"
     ]
    }
   ],
   "source": [
    "x = 10\n",
    "for food in lunch:\n",
    "    print(food)\n",
    "print(x)"
   ]
  },
  {
   "cell_type": "markdown",
   "metadata": {},
   "source": [
    "<hr style=\"height:2px;border-width:0;color:black;background-color:red\">"
   ]
  },
  {
   "cell_type": "markdown",
   "metadata": {},
   "source": [
    "Here is a more complex example:"
   ]
  },
  {
   "cell_type": "code",
   "execution_count": 60,
   "metadata": {},
   "outputs": [
    {
     "name": "stdout",
     "output_type": "stream",
     "text": [
      "[ 0  2  4  6  8 10]\n"
     ]
    }
   ],
   "source": [
    "# start at 0, end at the number right before 12\n",
    "# go in steps of 2\n",
    "numbers = np.arange(0, 12, 2) \n",
    "print(numbers)"
   ]
  },
  {
   "cell_type": "code",
   "execution_count": 61,
   "metadata": {},
   "outputs": [
    {
     "name": "stdout",
     "output_type": "stream",
     "text": [
      "Memory Before Sum: total=0, number=0\n",
      "Memory After Sum: total=0, number=0\n",
      "\n",
      "Memory Before Sum: total=0, number=2\n",
      "Memory After Sum: total=2, number=2\n",
      "\n",
      "Memory Before Sum: total=2, number=4\n",
      "Memory After Sum: total=6, number=4\n",
      "\n",
      "Memory Before Sum: total=6, number=6\n",
      "Memory After Sum: total=12, number=6\n",
      "\n",
      "Memory Before Sum: total=12, number=8\n",
      "Memory After Sum: total=20, number=8\n",
      "\n",
      "Memory Before Sum: total=20, number=10\n",
      "Memory After Sum: total=30, number=10\n",
      "\n",
      "Total = 30\n"
     ]
    }
   ],
   "source": [
    "total = 0\n",
    "for number in numbers:\n",
    "    print(f'Memory Before Sum: total={total}, number={number}')   \n",
    "    total = total + number  # Equivalently you can write total += number\n",
    "    print(f'Memory After Sum: total={total}, number={number}\\n')\n",
    "    \n",
    "print('Total =',total)   "
   ]
  },
  {
   "cell_type": "markdown",
   "metadata": {},
   "source": [
    "#### 1.6. Defining functions\n",
    "\n",
    "Defining functions makes the coding process more efficient, prevents errors, and improves readability."
   ]
  },
  {
   "cell_type": "code",
   "execution_count": 62,
   "metadata": {},
   "outputs": [],
   "source": [
    "import math"
   ]
  },
  {
   "cell_type": "code",
   "execution_count": 58,
   "metadata": {},
   "outputs": [],
   "source": [
    "def area(radius):\n",
    "    return math.pi*(radius**2) # the double asterisk is a power"
   ]
  },
  {
   "cell_type": "code",
   "execution_count": 63,
   "metadata": {},
   "outputs": [],
   "source": [
    "def area(radius):\n",
    "    \"\"\" Returns the area of a circle, given its radius\n",
    "        \n",
    "        Parameters\n",
    "        ----------\n",
    "        radius : float\n",
    "            The radius of the circle\n",
    "        \n",
    "        Returns\n",
    "        -------\n",
    "        float\n",
    "            The area of the circle\n",
    "    \"\"\"\n",
    "    \n",
    "    return math.pi*(radius**2)  # the double asterisk is a power"
   ]
  },
  {
   "cell_type": "code",
   "execution_count": 64,
   "metadata": {},
   "outputs": [
    {
     "data": {
      "text/plain": [
       "3.141592653589793"
      ]
     },
     "execution_count": 64,
     "metadata": {},
     "output_type": "execute_result"
    }
   ],
   "source": [
    "area(1)"
   ]
  },
  {
   "cell_type": "code",
   "execution_count": 61,
   "metadata": {},
   "outputs": [
    {
     "data": {
      "text/plain": [
       "12.566370614359172"
      ]
     },
     "execution_count": 61,
     "metadata": {},
     "output_type": "execute_result"
    }
   ],
   "source": [
    "area(2)"
   ]
  },
  {
   "cell_type": "markdown",
   "metadata": {},
   "source": [
    "<hr style=\"height:2px;border-width:0;color:black;background-color:black\">\n",
    "\n",
    "### Aside - Naming\n",
    "\n",
    "In the beginning of the tutorial I seemed to make a point on using english, which I was not. The point I was really trying to make is to use names that <b>make sense</b>.\n",
    "\n",
    "So, for example, if I named a function `add_numbers` but instead of adding numbers, I subtract the numbers:"
   ]
  },
  {
   "cell_type": "code",
   "execution_count": 62,
   "metadata": {
    "code_folding": [
     0
    ]
   },
   "outputs": [],
   "source": [
    "def add_numbers(a, b):\n",
    "    return a - b"
   ]
  },
  {
   "cell_type": "markdown",
   "metadata": {},
   "source": [
    "When I run the function `add_numbers(5, 2)` I expect to be given the answer `5 + 2 = 7`. But instead I get"
   ]
  },
  {
   "cell_type": "code",
   "execution_count": 63,
   "metadata": {},
   "outputs": [
    {
     "data": {
      "text/plain": [
       "3"
      ]
     },
     "execution_count": 63,
     "metadata": {},
     "output_type": "execute_result"
    }
   ],
   "source": [
    "add_numbers(5, 2) # WHAT ???????"
   ]
  },
  {
   "cell_type": "markdown",
   "metadata": {},
   "source": [
    "What??? The function name is `add_numbers` but instead of doing what you would expect it to do (add numbers) it subtracts them??? How does that make any sense what so ever.\n",
    "\n",
    "But instead if we write"
   ]
  },
  {
   "cell_type": "code",
   "execution_count": 64,
   "metadata": {
    "code_folding": [
     0
    ]
   },
   "outputs": [
    {
     "data": {
      "text/plain": [
       "3"
      ]
     },
     "execution_count": 64,
     "metadata": {},
     "output_type": "execute_result"
    }
   ],
   "source": [
    "def subtract_numbers(a, b):\n",
    "    return a - b\n",
    "subtract_numbers(5, 2)"
   ]
  },
  {
   "cell_type": "markdown",
   "metadata": {},
   "source": [
    "Now this makes more sense.\n",
    "\n",
    "But note how `add_numbers` and `subtract_numbers` do the exact same thing! It is just `subtract_numbers` is given a more sensible name than `add_numbers` is."
   ]
  },
  {
   "cell_type": "markdown",
   "metadata": {},
   "source": [
    "The main idea is therefore to <b>use names that make sense</b>. Case in point PySoap: https://github.com/infamoussoap/pysoap\n",
    "\n",
    "According to Google translate \n",
    "    \n",
    "    Subtract Numbers (English) = вычесть числа (Russian)\n",
    "    \n",
    "So, if you're Russian and you are sure that no-one else but Russian speakers would read your code, then you are more than welcomed to write"
   ]
  },
  {
   "cell_type": "code",
   "execution_count": 66,
   "metadata": {
    "code_folding": [
     0
    ]
   },
   "outputs": [],
   "source": [
    "def вычесть_числа(ж, б):\n",
    "    return ж - б"
   ]
  },
  {
   "cell_type": "code",
   "execution_count": 68,
   "metadata": {},
   "outputs": [
    {
     "data": {
      "text/plain": [
       "3"
      ]
     },
     "execution_count": 68,
     "metadata": {},
     "output_type": "execute_result"
    }
   ],
   "source": [
    "вычесть_числа(5, 2)"
   ]
  },
  {
   "cell_type": "markdown",
   "metadata": {},
   "source": [
    "I'll warn here that all tutors will understand English, so it is a wise idea if you want our help to write in English.\n",
    "\n",
    "<hr style=\"height:2px;border-width:0;color:black;background-color:red\">"
   ]
  },
  {
   "cell_type": "markdown",
   "metadata": {},
   "source": [
    "<hr style=\"height:2px;border-width:0;color:black;background-color:black\">\n"
   ]
  },
  {
   "cell_type": "markdown",
   "metadata": {},
   "source": [
    "# Lecture 1 Summary\n",
    "\n",
    "<b> Types of Learning </b> - While the lecture says there are 2 types of learning, there are actually 3 types of learning\n",
    "- Supervised Learning - aka learning with the teacher \n",
    "    - Here you are given the input $(X_1,...,X_n)$ and the associated output $(Y_1,...,Y_n)$\n",
    "    - A typical example that is given: Inputs will be the descriptions of a house (the number of windows, doors, rooms, toilets, etc.), and the output will be the house price. The task is then to find a pattern between the input (the descriptors of a datapoint) and the output\n",
    "- Unsupervised Learning\n",
    "    - Here we are only given the input $(X_1,...,X_n)$, but no associated output.\n",
    "    - With unsupervised learning we just want to find interesting, a good example is clustering to find shirt sizes\n",
    "- Reinforcement Learning\n",
    "    - Reinforcement leanring, I think, is the most interesting of all 3 types of learning. Unfortunately applications of reinforcement learning is far outside this course, and so we won't talk about it here.\n",
    "    - Typical applications of reinforcement learning: AlphaGo, AlphaZero, teaching computers to play games/drive a car"
   ]
  },
  {
   "cell_type": "markdown",
   "metadata": {},
   "source": [
    "<img align=\"center\" src=\"http://blog.fitrrati.com/wp-content/uploads/2017/05/MenShirts.png\">"
   ]
  },
  {
   "cell_type": "markdown",
   "metadata": {},
   "source": [
    "<b> Regression vs Classification </b>\n",
    "- In regression the response (the output) can be what every value it want's to be\n",
    "    - In trying to predict house prices, house prices can take what ever value it wants. So 10,000; 10,000.01; 10,000.34; etc. are all legal values for houe prices\n",
    "- In classification the response can only take only a finite amout of values\n",
    "    - Categorizing emails as spam vs non-spam\n",
    "    - Is an image a hotdog or not-hotdog\n",
    "    - Turns out playing chess, or more specifically finding the best chess move, is also a classification problem. In the interest of time, I'll have to handwave some of the details, but at any given time a player only has 4,672 possible moves. The task is then, of the 4,672 moves, to find the best move. Turns out AlphaZero does exactly this, it is simply a very fancy classification machine"
   ]
  },
  {
   "cell_type": "markdown",
   "metadata": {},
   "source": [
    "<b> Additive Error Model </b> - It assumes a relationship between the input values $X$, and the output values $Y$. It assumes that\n",
    "$$Y = f(X) + \\varepsilon$$\n",
    "with $\\mathbb{E}[\\varepsilon]=0$. Note that additive error model only assumes that the error (or noise) is added onto \n",
    "the function $f$, but it makes no assumption of the function itself.\n",
    "\n",
    "Brownian motion is perhaps the best way to explain this. Robert Brown was studying how pollen moved in water, and Albert Einstein then formalised the idea in math. \n",
    "\n",
    "    He noticed that they appeared to be moving about in a jerky, random way. Brown said it looked like the pollen grains were 'dancing on the water'. \n",
    "    - Robert Brown explaining how pollen moves in water\n",
    "\n",
    "What actually happens is that the pollen, because of inertia, tries to move in a straight line. But what happens is that the water molecules will, at random, hit the pollen hence moving it in the random way.\n",
    "\n",
    "<img align=\"center\" src=\"https://upload.wikimedia.org/wikipedia/commons/thumb/c/c2/Brownian_motion_large.gif/220px-Brownian_motion_large.gif\">\n",
    "\n",
    "<img align=\"center\" src=\"http://www.microscopy-uk.org.uk/dww/home/dwbrown5.gif\">\n",
    "\n",
    "\n",
    "In a very similar sense, the additive error model assumes that there is a true patten that exists (like the straight line because of inertia). But what happens is that everytime we sample from the world, there is noise that kicks it away from its true value (the water randomly hitting the pollen). Because of this, we never actually see (or sample from) the true pattern $f(X)$. But rather we see $Y=f(X)+\\varepsilon$"
   ]
  },
  {
   "cell_type": "markdown",
   "metadata": {},
   "source": [
    "<b> Generalisation (Testing) and Training Error</b> - Generally speaking, there are two main phases of model development: The training phase and the testing phase.\n",
    "\n",
    "You can think of this much like a student in a class. The training phases would be you reading the textbook, going to tutorials and doing questions your self. The testing phase will then test your ability to do what you just learnt. Critically, though, the testing phase should have no questions similar to those in the training phase. The reason being that you can just remember the question. But that is not what we, the teaching team want, we want to see if you have actually learnt something.\n",
    "\n",
    "In the same sense, when building a model, we first pick a model that we want to use, may that be linear regression or k-nearest-neighbours, etc. Then we train the model. After we train the model we then want to test the model on unseen data and see how well it performs. \n",
    "\n",
    "As such we really have two erros\n",
    "1. The trainning error - how bad the model did on the training data (or the data that the model has seen)\n",
    "2. The testing error (or generalisation error) - how bad the model did on the testing data (or the data that the model hasn't seen)\n",
    "\n",
    "Now, the ultimate goal of building the model is to be as accurate on data that we haven't seen. But of course, we can't just accumulate all of the data in the world. So we do something different. \n",
    "\n",
    "We will take the dataset that is given to us, and we will randomly (with more details) split the dataset into the a training set and a testing set. The training set will be used to train/teach the model, and the test set will be used to estimate how well the model will do on unseen data. So this is the key, we will be using the test set to approximate the generalisation capabilities of our model, and the training set to built it.\n",
    "\n",
    "Typically, the training set is choosen to be 70-80% of the original data, and the test set will be everything else. \n",
    "\n",
    "Realise also that it is one thing to minimise the training error, but the real aim is that we actually want to minimise the testing error. Afterall what use is a model if we can't use it to predict on data it hasn't seen yet."
   ]
  },
  {
   "cell_type": "markdown",
   "metadata": {},
   "source": [
    "<b> Bias-Variance Trade off </b> - This is only of the most classical images in statistical learning courses, that it is almost tradition to show these images. So if they are not burned into your brain right now, then don't fear, because they will burned in soon.\n",
    "\n",
    "Variance is kind of similar to how you would think of variance of a dataset, but here we are specifically refering to model variance. Meaning how much will our model change if the noise was resampled. \n",
    "- To understand what noise resampling is, think back to the pollen example. If I looked at how pollen moved on Monday then I have sampled the noise on Monday. But on Tuesday I look again and see how the pollen moves. Now on Tuesday it's going to move differently than on Monday. But recognise that the underlying process does not change, only the noise changes.\n",
    "\n",
    "Model bias, generally speaking, can be tought of has how much the model assumes about the data. \n",
    "- In super flexible models (like the high variance model) tend to make little assumptions about the data. While this can be a good thing, generally speaking these models don't generalise well\n",
    "\n",
    "Now a question is then how to control a model variance/bias. We'll really we can't. Instead what we use is we look at the training/testing errors as a proxy for model variance/bias. In particular\n",
    "\n",
    "|  | Low Test Error | High Test Error |\n",
    "| --- | --- | --- |\n",
    "| <b>Low Train Error</b> | Good Balance | Low Bias, High Variance (Overfitting) |\n",
    "| <b>High Train Error</b> | I don't think this is possible | High Bias, Low Variance (Underfitting) |\n",
    "\n",
    "I have never encountered a situation in which you have a model that is very bad on the training dataset, but really good on the testing dataset. But if this happens to you, then most likely it is an error when you split up the dataset. In particular, you need to make sure that you randomly split the dataset"
   ]
  },
  {
   "cell_type": "markdown",
   "metadata": {},
   "source": [
    "\n",
    "<img align=\"center\" src=\"https://i.stack.imgur.com/GEJIM.png\">\n",
    "<img align=\"center\" src=\"https://miro.medium.com/max/1660/1*9hPX9pAO3jqLrzt0IE3JzA.png\">"
   ]
  },
  {
   "cell_type": "markdown",
   "metadata": {},
   "source": [
    "<hr style=\"height:2px;border-width:0;color:black;background-color:red\">\n"
   ]
  }
 ],
 "metadata": {
  "kernelspec": {
   "display_name": "Python 3",
   "language": "python",
   "name": "python3"
  },
  "language_info": {
   "codemirror_mode": {
    "name": "ipython",
    "version": 3
   },
   "file_extension": ".py",
   "mimetype": "text/x-python",
   "name": "python",
   "nbconvert_exporter": "python",
   "pygments_lexer": "ipython3",
   "version": "3.7.6"
  }
 },
 "nbformat": 4,
 "nbformat_minor": 1
}
